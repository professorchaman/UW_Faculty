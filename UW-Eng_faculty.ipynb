{
 "cells": [
  {
   "cell_type": "code",
   "execution_count": 1,
   "metadata": {},
   "outputs": [],
   "source": [
    "import requests\n",
    "from bs4 import BeautifulSoup\n",
    "import pandas as pd\n",
    "import numpy as np"
   ]
  },
  {
   "cell_type": "code",
   "execution_count": 6,
   "metadata": {},
   "outputs": [
    {
     "name": "stderr",
     "output_type": "stream",
     "text": [
      "C:\\Users\\profe\\AppData\\Local\\Temp\\ipykernel_5868\\3978838614.py:78: FutureWarning: The frame.append method is deprecated and will be removed from pandas in a future version. Use pandas.concat instead.\n",
      "  df = df.append({'Faculty Member': name, 'Ph.D.': phd, 'Masters': masters, 'Bachelors': bachelors}, ignore_index=True)\n",
      "C:\\Users\\profe\\AppData\\Local\\Temp\\ipykernel_5868\\3978838614.py:78: FutureWarning: The frame.append method is deprecated and will be removed from pandas in a future version. Use pandas.concat instead.\n",
      "  df = df.append({'Faculty Member': name, 'Ph.D.': phd, 'Masters': masters, 'Bachelors': bachelors}, ignore_index=True)\n",
      "C:\\Users\\profe\\AppData\\Local\\Temp\\ipykernel_5868\\3978838614.py:78: FutureWarning: The frame.append method is deprecated and will be removed from pandas in a future version. Use pandas.concat instead.\n",
      "  df = df.append({'Faculty Member': name, 'Ph.D.': phd, 'Masters': masters, 'Bachelors': bachelors}, ignore_index=True)\n",
      "C:\\Users\\profe\\AppData\\Local\\Temp\\ipykernel_5868\\3978838614.py:78: FutureWarning: The frame.append method is deprecated and will be removed from pandas in a future version. Use pandas.concat instead.\n",
      "  df = df.append({'Faculty Member': name, 'Ph.D.': phd, 'Masters': masters, 'Bachelors': bachelors}, ignore_index=True)\n",
      "C:\\Users\\profe\\AppData\\Local\\Temp\\ipykernel_5868\\3978838614.py:78: FutureWarning: The frame.append method is deprecated and will be removed from pandas in a future version. Use pandas.concat instead.\n",
      "  df = df.append({'Faculty Member': name, 'Ph.D.': phd, 'Masters': masters, 'Bachelors': bachelors}, ignore_index=True)\n",
      "C:\\Users\\profe\\AppData\\Local\\Temp\\ipykernel_5868\\3978838614.py:78: FutureWarning: The frame.append method is deprecated and will be removed from pandas in a future version. Use pandas.concat instead.\n",
      "  df = df.append({'Faculty Member': name, 'Ph.D.': phd, 'Masters': masters, 'Bachelors': bachelors}, ignore_index=True)\n",
      "C:\\Users\\profe\\AppData\\Local\\Temp\\ipykernel_5868\\3978838614.py:78: FutureWarning: The frame.append method is deprecated and will be removed from pandas in a future version. Use pandas.concat instead.\n",
      "  df = df.append({'Faculty Member': name, 'Ph.D.': phd, 'Masters': masters, 'Bachelors': bachelors}, ignore_index=True)\n",
      "C:\\Users\\profe\\AppData\\Local\\Temp\\ipykernel_5868\\3978838614.py:78: FutureWarning: The frame.append method is deprecated and will be removed from pandas in a future version. Use pandas.concat instead.\n",
      "  df = df.append({'Faculty Member': name, 'Ph.D.': phd, 'Masters': masters, 'Bachelors': bachelors}, ignore_index=True)\n",
      "C:\\Users\\profe\\AppData\\Local\\Temp\\ipykernel_5868\\3978838614.py:78: FutureWarning: The frame.append method is deprecated and will be removed from pandas in a future version. Use pandas.concat instead.\n",
      "  df = df.append({'Faculty Member': name, 'Ph.D.': phd, 'Masters': masters, 'Bachelors': bachelors}, ignore_index=True)\n",
      "C:\\Users\\profe\\AppData\\Local\\Temp\\ipykernel_5868\\3978838614.py:78: FutureWarning: The frame.append method is deprecated and will be removed from pandas in a future version. Use pandas.concat instead.\n",
      "  df = df.append({'Faculty Member': name, 'Ph.D.': phd, 'Masters': masters, 'Bachelors': bachelors}, ignore_index=True)\n",
      "C:\\Users\\profe\\AppData\\Local\\Temp\\ipykernel_5868\\3978838614.py:78: FutureWarning: The frame.append method is deprecated and will be removed from pandas in a future version. Use pandas.concat instead.\n",
      "  df = df.append({'Faculty Member': name, 'Ph.D.': phd, 'Masters': masters, 'Bachelors': bachelors}, ignore_index=True)\n",
      "C:\\Users\\profe\\AppData\\Local\\Temp\\ipykernel_5868\\3978838614.py:78: FutureWarning: The frame.append method is deprecated and will be removed from pandas in a future version. Use pandas.concat instead.\n",
      "  df = df.append({'Faculty Member': name, 'Ph.D.': phd, 'Masters': masters, 'Bachelors': bachelors}, ignore_index=True)\n",
      "C:\\Users\\profe\\AppData\\Local\\Temp\\ipykernel_5868\\3978838614.py:78: FutureWarning: The frame.append method is deprecated and will be removed from pandas in a future version. Use pandas.concat instead.\n",
      "  df = df.append({'Faculty Member': name, 'Ph.D.': phd, 'Masters': masters, 'Bachelors': bachelors}, ignore_index=True)\n",
      "C:\\Users\\profe\\AppData\\Local\\Temp\\ipykernel_5868\\3978838614.py:78: FutureWarning: The frame.append method is deprecated and will be removed from pandas in a future version. Use pandas.concat instead.\n",
      "  df = df.append({'Faculty Member': name, 'Ph.D.': phd, 'Masters': masters, 'Bachelors': bachelors}, ignore_index=True)\n",
      "C:\\Users\\profe\\AppData\\Local\\Temp\\ipykernel_5868\\3978838614.py:78: FutureWarning: The frame.append method is deprecated and will be removed from pandas in a future version. Use pandas.concat instead.\n",
      "  df = df.append({'Faculty Member': name, 'Ph.D.': phd, 'Masters': masters, 'Bachelors': bachelors}, ignore_index=True)\n",
      "C:\\Users\\profe\\AppData\\Local\\Temp\\ipykernel_5868\\3978838614.py:78: FutureWarning: The frame.append method is deprecated and will be removed from pandas in a future version. Use pandas.concat instead.\n",
      "  df = df.append({'Faculty Member': name, 'Ph.D.': phd, 'Masters': masters, 'Bachelors': bachelors}, ignore_index=True)\n",
      "C:\\Users\\profe\\AppData\\Local\\Temp\\ipykernel_5868\\3978838614.py:78: FutureWarning: The frame.append method is deprecated and will be removed from pandas in a future version. Use pandas.concat instead.\n",
      "  df = df.append({'Faculty Member': name, 'Ph.D.': phd, 'Masters': masters, 'Bachelors': bachelors}, ignore_index=True)\n",
      "C:\\Users\\profe\\AppData\\Local\\Temp\\ipykernel_5868\\3978838614.py:78: FutureWarning: The frame.append method is deprecated and will be removed from pandas in a future version. Use pandas.concat instead.\n",
      "  df = df.append({'Faculty Member': name, 'Ph.D.': phd, 'Masters': masters, 'Bachelors': bachelors}, ignore_index=True)\n",
      "C:\\Users\\profe\\AppData\\Local\\Temp\\ipykernel_5868\\3978838614.py:78: FutureWarning: The frame.append method is deprecated and will be removed from pandas in a future version. Use pandas.concat instead.\n",
      "  df = df.append({'Faculty Member': name, 'Ph.D.': phd, 'Masters': masters, 'Bachelors': bachelors}, ignore_index=True)\n",
      "C:\\Users\\profe\\AppData\\Local\\Temp\\ipykernel_5868\\3978838614.py:78: FutureWarning: The frame.append method is deprecated and will be removed from pandas in a future version. Use pandas.concat instead.\n",
      "  df = df.append({'Faculty Member': name, 'Ph.D.': phd, 'Masters': masters, 'Bachelors': bachelors}, ignore_index=True)\n",
      "C:\\Users\\profe\\AppData\\Local\\Temp\\ipykernel_5868\\3978838614.py:78: FutureWarning: The frame.append method is deprecated and will be removed from pandas in a future version. Use pandas.concat instead.\n",
      "  df = df.append({'Faculty Member': name, 'Ph.D.': phd, 'Masters': masters, 'Bachelors': bachelors}, ignore_index=True)\n",
      "C:\\Users\\profe\\AppData\\Local\\Temp\\ipykernel_5868\\3978838614.py:78: FutureWarning: The frame.append method is deprecated and will be removed from pandas in a future version. Use pandas.concat instead.\n",
      "  df = df.append({'Faculty Member': name, 'Ph.D.': phd, 'Masters': masters, 'Bachelors': bachelors}, ignore_index=True)\n",
      "C:\\Users\\profe\\AppData\\Local\\Temp\\ipykernel_5868\\3978838614.py:78: FutureWarning: The frame.append method is deprecated and will be removed from pandas in a future version. Use pandas.concat instead.\n",
      "  df = df.append({'Faculty Member': name, 'Ph.D.': phd, 'Masters': masters, 'Bachelors': bachelors}, ignore_index=True)\n",
      "C:\\Users\\profe\\AppData\\Local\\Temp\\ipykernel_5868\\3978838614.py:78: FutureWarning: The frame.append method is deprecated and will be removed from pandas in a future version. Use pandas.concat instead.\n",
      "  df = df.append({'Faculty Member': name, 'Ph.D.': phd, 'Masters': masters, 'Bachelors': bachelors}, ignore_index=True)\n",
      "C:\\Users\\profe\\AppData\\Local\\Temp\\ipykernel_5868\\3978838614.py:78: FutureWarning: The frame.append method is deprecated and will be removed from pandas in a future version. Use pandas.concat instead.\n",
      "  df = df.append({'Faculty Member': name, 'Ph.D.': phd, 'Masters': masters, 'Bachelors': bachelors}, ignore_index=True)\n",
      "C:\\Users\\profe\\AppData\\Local\\Temp\\ipykernel_5868\\3978838614.py:78: FutureWarning: The frame.append method is deprecated and will be removed from pandas in a future version. Use pandas.concat instead.\n",
      "  df = df.append({'Faculty Member': name, 'Ph.D.': phd, 'Masters': masters, 'Bachelors': bachelors}, ignore_index=True)\n",
      "C:\\Users\\profe\\AppData\\Local\\Temp\\ipykernel_5868\\3978838614.py:78: FutureWarning: The frame.append method is deprecated and will be removed from pandas in a future version. Use pandas.concat instead.\n",
      "  df = df.append({'Faculty Member': name, 'Ph.D.': phd, 'Masters': masters, 'Bachelors': bachelors}, ignore_index=True)\n",
      "C:\\Users\\profe\\AppData\\Local\\Temp\\ipykernel_5868\\3978838614.py:78: FutureWarning: The frame.append method is deprecated and will be removed from pandas in a future version. Use pandas.concat instead.\n",
      "  df = df.append({'Faculty Member': name, 'Ph.D.': phd, 'Masters': masters, 'Bachelors': bachelors}, ignore_index=True)\n",
      "C:\\Users\\profe\\AppData\\Local\\Temp\\ipykernel_5868\\3978838614.py:78: FutureWarning: The frame.append method is deprecated and will be removed from pandas in a future version. Use pandas.concat instead.\n",
      "  df = df.append({'Faculty Member': name, 'Ph.D.': phd, 'Masters': masters, 'Bachelors': bachelors}, ignore_index=True)\n",
      "C:\\Users\\profe\\AppData\\Local\\Temp\\ipykernel_5868\\3978838614.py:78: FutureWarning: The frame.append method is deprecated and will be removed from pandas in a future version. Use pandas.concat instead.\n",
      "  df = df.append({'Faculty Member': name, 'Ph.D.': phd, 'Masters': masters, 'Bachelors': bachelors}, ignore_index=True)\n",
      "C:\\Users\\profe\\AppData\\Local\\Temp\\ipykernel_5868\\3978838614.py:78: FutureWarning: The frame.append method is deprecated and will be removed from pandas in a future version. Use pandas.concat instead.\n",
      "  df = df.append({'Faculty Member': name, 'Ph.D.': phd, 'Masters': masters, 'Bachelors': bachelors}, ignore_index=True)\n",
      "C:\\Users\\profe\\AppData\\Local\\Temp\\ipykernel_5868\\3978838614.py:78: FutureWarning: The frame.append method is deprecated and will be removed from pandas in a future version. Use pandas.concat instead.\n",
      "  df = df.append({'Faculty Member': name, 'Ph.D.': phd, 'Masters': masters, 'Bachelors': bachelors}, ignore_index=True)\n",
      "C:\\Users\\profe\\AppData\\Local\\Temp\\ipykernel_5868\\3978838614.py:78: FutureWarning: The frame.append method is deprecated and will be removed from pandas in a future version. Use pandas.concat instead.\n",
      "  df = df.append({'Faculty Member': name, 'Ph.D.': phd, 'Masters': masters, 'Bachelors': bachelors}, ignore_index=True)\n",
      "C:\\Users\\profe\\AppData\\Local\\Temp\\ipykernel_5868\\3978838614.py:78: FutureWarning: The frame.append method is deprecated and will be removed from pandas in a future version. Use pandas.concat instead.\n",
      "  df = df.append({'Faculty Member': name, 'Ph.D.': phd, 'Masters': masters, 'Bachelors': bachelors}, ignore_index=True)\n",
      "C:\\Users\\profe\\AppData\\Local\\Temp\\ipykernel_5868\\3978838614.py:78: FutureWarning: The frame.append method is deprecated and will be removed from pandas in a future version. Use pandas.concat instead.\n",
      "  df = df.append({'Faculty Member': name, 'Ph.D.': phd, 'Masters': masters, 'Bachelors': bachelors}, ignore_index=True)\n",
      "C:\\Users\\profe\\AppData\\Local\\Temp\\ipykernel_5868\\3978838614.py:78: FutureWarning: The frame.append method is deprecated and will be removed from pandas in a future version. Use pandas.concat instead.\n",
      "  df = df.append({'Faculty Member': name, 'Ph.D.': phd, 'Masters': masters, 'Bachelors': bachelors}, ignore_index=True)\n",
      "C:\\Users\\profe\\AppData\\Local\\Temp\\ipykernel_5868\\3978838614.py:78: FutureWarning: The frame.append method is deprecated and will be removed from pandas in a future version. Use pandas.concat instead.\n",
      "  df = df.append({'Faculty Member': name, 'Ph.D.': phd, 'Masters': masters, 'Bachelors': bachelors}, ignore_index=True)\n",
      "C:\\Users\\profe\\AppData\\Local\\Temp\\ipykernel_5868\\3978838614.py:78: FutureWarning: The frame.append method is deprecated and will be removed from pandas in a future version. Use pandas.concat instead.\n",
      "  df = df.append({'Faculty Member': name, 'Ph.D.': phd, 'Masters': masters, 'Bachelors': bachelors}, ignore_index=True)\n",
      "C:\\Users\\profe\\AppData\\Local\\Temp\\ipykernel_5868\\3978838614.py:78: FutureWarning: The frame.append method is deprecated and will be removed from pandas in a future version. Use pandas.concat instead.\n",
      "  df = df.append({'Faculty Member': name, 'Ph.D.': phd, 'Masters': masters, 'Bachelors': bachelors}, ignore_index=True)\n",
      "C:\\Users\\profe\\AppData\\Local\\Temp\\ipykernel_5868\\3978838614.py:78: FutureWarning: The frame.append method is deprecated and will be removed from pandas in a future version. Use pandas.concat instead.\n",
      "  df = df.append({'Faculty Member': name, 'Ph.D.': phd, 'Masters': masters, 'Bachelors': bachelors}, ignore_index=True)\n",
      "C:\\Users\\profe\\AppData\\Local\\Temp\\ipykernel_5868\\3978838614.py:78: FutureWarning: The frame.append method is deprecated and will be removed from pandas in a future version. Use pandas.concat instead.\n",
      "  df = df.append({'Faculty Member': name, 'Ph.D.': phd, 'Masters': masters, 'Bachelors': bachelors}, ignore_index=True)\n",
      "C:\\Users\\profe\\AppData\\Local\\Temp\\ipykernel_5868\\3978838614.py:78: FutureWarning: The frame.append method is deprecated and will be removed from pandas in a future version. Use pandas.concat instead.\n",
      "  df = df.append({'Faculty Member': name, 'Ph.D.': phd, 'Masters': masters, 'Bachelors': bachelors}, ignore_index=True)\n",
      "C:\\Users\\profe\\AppData\\Local\\Temp\\ipykernel_5868\\3978838614.py:78: FutureWarning: The frame.append method is deprecated and will be removed from pandas in a future version. Use pandas.concat instead.\n",
      "  df = df.append({'Faculty Member': name, 'Ph.D.': phd, 'Masters': masters, 'Bachelors': bachelors}, ignore_index=True)\n",
      "C:\\Users\\profe\\AppData\\Local\\Temp\\ipykernel_5868\\3978838614.py:78: FutureWarning: The frame.append method is deprecated and will be removed from pandas in a future version. Use pandas.concat instead.\n",
      "  df = df.append({'Faculty Member': name, 'Ph.D.': phd, 'Masters': masters, 'Bachelors': bachelors}, ignore_index=True)\n",
      "C:\\Users\\profe\\AppData\\Local\\Temp\\ipykernel_5868\\3978838614.py:78: FutureWarning: The frame.append method is deprecated and will be removed from pandas in a future version. Use pandas.concat instead.\n",
      "  df = df.append({'Faculty Member': name, 'Ph.D.': phd, 'Masters': masters, 'Bachelors': bachelors}, ignore_index=True)\n",
      "C:\\Users\\profe\\AppData\\Local\\Temp\\ipykernel_5868\\3978838614.py:78: FutureWarning: The frame.append method is deprecated and will be removed from pandas in a future version. Use pandas.concat instead.\n",
      "  df = df.append({'Faculty Member': name, 'Ph.D.': phd, 'Masters': masters, 'Bachelors': bachelors}, ignore_index=True)\n",
      "C:\\Users\\profe\\AppData\\Local\\Temp\\ipykernel_5868\\3978838614.py:78: FutureWarning: The frame.append method is deprecated and will be removed from pandas in a future version. Use pandas.concat instead.\n",
      "  df = df.append({'Faculty Member': name, 'Ph.D.': phd, 'Masters': masters, 'Bachelors': bachelors}, ignore_index=True)\n",
      "C:\\Users\\profe\\AppData\\Local\\Temp\\ipykernel_5868\\3978838614.py:78: FutureWarning: The frame.append method is deprecated and will be removed from pandas in a future version. Use pandas.concat instead.\n",
      "  df = df.append({'Faculty Member': name, 'Ph.D.': phd, 'Masters': masters, 'Bachelors': bachelors}, ignore_index=True)\n",
      "C:\\Users\\profe\\AppData\\Local\\Temp\\ipykernel_5868\\3978838614.py:78: FutureWarning: The frame.append method is deprecated and will be removed from pandas in a future version. Use pandas.concat instead.\n",
      "  df = df.append({'Faculty Member': name, 'Ph.D.': phd, 'Masters': masters, 'Bachelors': bachelors}, ignore_index=True)\n",
      "C:\\Users\\profe\\AppData\\Local\\Temp\\ipykernel_5868\\3978838614.py:78: FutureWarning: The frame.append method is deprecated and will be removed from pandas in a future version. Use pandas.concat instead.\n",
      "  df = df.append({'Faculty Member': name, 'Ph.D.': phd, 'Masters': masters, 'Bachelors': bachelors}, ignore_index=True)\n",
      "C:\\Users\\profe\\AppData\\Local\\Temp\\ipykernel_5868\\3978838614.py:78: FutureWarning: The frame.append method is deprecated and will be removed from pandas in a future version. Use pandas.concat instead.\n",
      "  df = df.append({'Faculty Member': name, 'Ph.D.': phd, 'Masters': masters, 'Bachelors': bachelors}, ignore_index=True)\n",
      "C:\\Users\\profe\\AppData\\Local\\Temp\\ipykernel_5868\\3978838614.py:78: FutureWarning: The frame.append method is deprecated and will be removed from pandas in a future version. Use pandas.concat instead.\n",
      "  df = df.append({'Faculty Member': name, 'Ph.D.': phd, 'Masters': masters, 'Bachelors': bachelors}, ignore_index=True)\n",
      "C:\\Users\\profe\\AppData\\Local\\Temp\\ipykernel_5868\\3978838614.py:78: FutureWarning: The frame.append method is deprecated and will be removed from pandas in a future version. Use pandas.concat instead.\n",
      "  df = df.append({'Faculty Member': name, 'Ph.D.': phd, 'Masters': masters, 'Bachelors': bachelors}, ignore_index=True)\n",
      "C:\\Users\\profe\\AppData\\Local\\Temp\\ipykernel_5868\\3978838614.py:78: FutureWarning: The frame.append method is deprecated and will be removed from pandas in a future version. Use pandas.concat instead.\n",
      "  df = df.append({'Faculty Member': name, 'Ph.D.': phd, 'Masters': masters, 'Bachelors': bachelors}, ignore_index=True)\n",
      "C:\\Users\\profe\\AppData\\Local\\Temp\\ipykernel_5868\\3978838614.py:78: FutureWarning: The frame.append method is deprecated and will be removed from pandas in a future version. Use pandas.concat instead.\n",
      "  df = df.append({'Faculty Member': name, 'Ph.D.': phd, 'Masters': masters, 'Bachelors': bachelors}, ignore_index=True)\n",
      "C:\\Users\\profe\\AppData\\Local\\Temp\\ipykernel_5868\\3978838614.py:78: FutureWarning: The frame.append method is deprecated and will be removed from pandas in a future version. Use pandas.concat instead.\n",
      "  df = df.append({'Faculty Member': name, 'Ph.D.': phd, 'Masters': masters, 'Bachelors': bachelors}, ignore_index=True)\n",
      "C:\\Users\\profe\\AppData\\Local\\Temp\\ipykernel_5868\\3978838614.py:78: FutureWarning: The frame.append method is deprecated and will be removed from pandas in a future version. Use pandas.concat instead.\n",
      "  df = df.append({'Faculty Member': name, 'Ph.D.': phd, 'Masters': masters, 'Bachelors': bachelors}, ignore_index=True)\n",
      "C:\\Users\\profe\\AppData\\Local\\Temp\\ipykernel_5868\\3978838614.py:78: FutureWarning: The frame.append method is deprecated and will be removed from pandas in a future version. Use pandas.concat instead.\n",
      "  df = df.append({'Faculty Member': name, 'Ph.D.': phd, 'Masters': masters, 'Bachelors': bachelors}, ignore_index=True)\n",
      "C:\\Users\\profe\\AppData\\Local\\Temp\\ipykernel_5868\\3978838614.py:78: FutureWarning: The frame.append method is deprecated and will be removed from pandas in a future version. Use pandas.concat instead.\n",
      "  df = df.append({'Faculty Member': name, 'Ph.D.': phd, 'Masters': masters, 'Bachelors': bachelors}, ignore_index=True)\n",
      "C:\\Users\\profe\\AppData\\Local\\Temp\\ipykernel_5868\\3978838614.py:78: FutureWarning: The frame.append method is deprecated and will be removed from pandas in a future version. Use pandas.concat instead.\n",
      "  df = df.append({'Faculty Member': name, 'Ph.D.': phd, 'Masters': masters, 'Bachelors': bachelors}, ignore_index=True)\n",
      "C:\\Users\\profe\\AppData\\Local\\Temp\\ipykernel_5868\\3978838614.py:78: FutureWarning: The frame.append method is deprecated and will be removed from pandas in a future version. Use pandas.concat instead.\n",
      "  df = df.append({'Faculty Member': name, 'Ph.D.': phd, 'Masters': masters, 'Bachelors': bachelors}, ignore_index=True)\n",
      "C:\\Users\\profe\\AppData\\Local\\Temp\\ipykernel_5868\\3978838614.py:78: FutureWarning: The frame.append method is deprecated and will be removed from pandas in a future version. Use pandas.concat instead.\n",
      "  df = df.append({'Faculty Member': name, 'Ph.D.': phd, 'Masters': masters, 'Bachelors': bachelors}, ignore_index=True)\n",
      "C:\\Users\\profe\\AppData\\Local\\Temp\\ipykernel_5868\\3978838614.py:78: FutureWarning: The frame.append method is deprecated and will be removed from pandas in a future version. Use pandas.concat instead.\n",
      "  df = df.append({'Faculty Member': name, 'Ph.D.': phd, 'Masters': masters, 'Bachelors': bachelors}, ignore_index=True)\n",
      "C:\\Users\\profe\\AppData\\Local\\Temp\\ipykernel_5868\\3978838614.py:78: FutureWarning: The frame.append method is deprecated and will be removed from pandas in a future version. Use pandas.concat instead.\n",
      "  df = df.append({'Faculty Member': name, 'Ph.D.': phd, 'Masters': masters, 'Bachelors': bachelors}, ignore_index=True)\n",
      "C:\\Users\\profe\\AppData\\Local\\Temp\\ipykernel_5868\\3978838614.py:78: FutureWarning: The frame.append method is deprecated and will be removed from pandas in a future version. Use pandas.concat instead.\n",
      "  df = df.append({'Faculty Member': name, 'Ph.D.': phd, 'Masters': masters, 'Bachelors': bachelors}, ignore_index=True)\n",
      "C:\\Users\\profe\\AppData\\Local\\Temp\\ipykernel_5868\\3978838614.py:78: FutureWarning: The frame.append method is deprecated and will be removed from pandas in a future version. Use pandas.concat instead.\n",
      "  df = df.append({'Faculty Member': name, 'Ph.D.': phd, 'Masters': masters, 'Bachelors': bachelors}, ignore_index=True)\n",
      "C:\\Users\\profe\\AppData\\Local\\Temp\\ipykernel_5868\\3978838614.py:78: FutureWarning: The frame.append method is deprecated and will be removed from pandas in a future version. Use pandas.concat instead.\n",
      "  df = df.append({'Faculty Member': name, 'Ph.D.': phd, 'Masters': masters, 'Bachelors': bachelors}, ignore_index=True)\n",
      "C:\\Users\\profe\\AppData\\Local\\Temp\\ipykernel_5868\\3978838614.py:78: FutureWarning: The frame.append method is deprecated and will be removed from pandas in a future version. Use pandas.concat instead.\n",
      "  df = df.append({'Faculty Member': name, 'Ph.D.': phd, 'Masters': masters, 'Bachelors': bachelors}, ignore_index=True)\n",
      "C:\\Users\\profe\\AppData\\Local\\Temp\\ipykernel_5868\\3978838614.py:78: FutureWarning: The frame.append method is deprecated and will be removed from pandas in a future version. Use pandas.concat instead.\n",
      "  df = df.append({'Faculty Member': name, 'Ph.D.': phd, 'Masters': masters, 'Bachelors': bachelors}, ignore_index=True)\n",
      "C:\\Users\\profe\\AppData\\Local\\Temp\\ipykernel_5868\\3978838614.py:78: FutureWarning: The frame.append method is deprecated and will be removed from pandas in a future version. Use pandas.concat instead.\n",
      "  df = df.append({'Faculty Member': name, 'Ph.D.': phd, 'Masters': masters, 'Bachelors': bachelors}, ignore_index=True)\n",
      "C:\\Users\\profe\\AppData\\Local\\Temp\\ipykernel_5868\\3978838614.py:78: FutureWarning: The frame.append method is deprecated and will be removed from pandas in a future version. Use pandas.concat instead.\n",
      "  df = df.append({'Faculty Member': name, 'Ph.D.': phd, 'Masters': masters, 'Bachelors': bachelors}, ignore_index=True)\n",
      "C:\\Users\\profe\\AppData\\Local\\Temp\\ipykernel_5868\\3978838614.py:78: FutureWarning: The frame.append method is deprecated and will be removed from pandas in a future version. Use pandas.concat instead.\n",
      "  df = df.append({'Faculty Member': name, 'Ph.D.': phd, 'Masters': masters, 'Bachelors': bachelors}, ignore_index=True)\n",
      "C:\\Users\\profe\\AppData\\Local\\Temp\\ipykernel_5868\\3978838614.py:78: FutureWarning: The frame.append method is deprecated and will be removed from pandas in a future version. Use pandas.concat instead.\n",
      "  df = df.append({'Faculty Member': name, 'Ph.D.': phd, 'Masters': masters, 'Bachelors': bachelors}, ignore_index=True)\n",
      "C:\\Users\\profe\\AppData\\Local\\Temp\\ipykernel_5868\\3978838614.py:78: FutureWarning: The frame.append method is deprecated and will be removed from pandas in a future version. Use pandas.concat instead.\n",
      "  df = df.append({'Faculty Member': name, 'Ph.D.': phd, 'Masters': masters, 'Bachelors': bachelors}, ignore_index=True)\n",
      "C:\\Users\\profe\\AppData\\Local\\Temp\\ipykernel_5868\\3978838614.py:78: FutureWarning: The frame.append method is deprecated and will be removed from pandas in a future version. Use pandas.concat instead.\n",
      "  df = df.append({'Faculty Member': name, 'Ph.D.': phd, 'Masters': masters, 'Bachelors': bachelors}, ignore_index=True)\n",
      "C:\\Users\\profe\\AppData\\Local\\Temp\\ipykernel_5868\\3978838614.py:78: FutureWarning: The frame.append method is deprecated and will be removed from pandas in a future version. Use pandas.concat instead.\n",
      "  df = df.append({'Faculty Member': name, 'Ph.D.': phd, 'Masters': masters, 'Bachelors': bachelors}, ignore_index=True)\n",
      "C:\\Users\\profe\\AppData\\Local\\Temp\\ipykernel_5868\\3978838614.py:78: FutureWarning: The frame.append method is deprecated and will be removed from pandas in a future version. Use pandas.concat instead.\n",
      "  df = df.append({'Faculty Member': name, 'Ph.D.': phd, 'Masters': masters, 'Bachelors': bachelors}, ignore_index=True)\n",
      "C:\\Users\\profe\\AppData\\Local\\Temp\\ipykernel_5868\\3978838614.py:78: FutureWarning: The frame.append method is deprecated and will be removed from pandas in a future version. Use pandas.concat instead.\n",
      "  df = df.append({'Faculty Member': name, 'Ph.D.': phd, 'Masters': masters, 'Bachelors': bachelors}, ignore_index=True)\n",
      "C:\\Users\\profe\\AppData\\Local\\Temp\\ipykernel_5868\\3978838614.py:78: FutureWarning: The frame.append method is deprecated and will be removed from pandas in a future version. Use pandas.concat instead.\n",
      "  df = df.append({'Faculty Member': name, 'Ph.D.': phd, 'Masters': masters, 'Bachelors': bachelors}, ignore_index=True)\n",
      "C:\\Users\\profe\\AppData\\Local\\Temp\\ipykernel_5868\\3978838614.py:78: FutureWarning: The frame.append method is deprecated and will be removed from pandas in a future version. Use pandas.concat instead.\n",
      "  df = df.append({'Faculty Member': name, 'Ph.D.': phd, 'Masters': masters, 'Bachelors': bachelors}, ignore_index=True)\n",
      "C:\\Users\\profe\\AppData\\Local\\Temp\\ipykernel_5868\\3978838614.py:78: FutureWarning: The frame.append method is deprecated and will be removed from pandas in a future version. Use pandas.concat instead.\n",
      "  df = df.append({'Faculty Member': name, 'Ph.D.': phd, 'Masters': masters, 'Bachelors': bachelors}, ignore_index=True)\n",
      "C:\\Users\\profe\\AppData\\Local\\Temp\\ipykernel_5868\\3978838614.py:78: FutureWarning: The frame.append method is deprecated and will be removed from pandas in a future version. Use pandas.concat instead.\n",
      "  df = df.append({'Faculty Member': name, 'Ph.D.': phd, 'Masters': masters, 'Bachelors': bachelors}, ignore_index=True)\n",
      "C:\\Users\\profe\\AppData\\Local\\Temp\\ipykernel_5868\\3978838614.py:78: FutureWarning: The frame.append method is deprecated and will be removed from pandas in a future version. Use pandas.concat instead.\n",
      "  df = df.append({'Faculty Member': name, 'Ph.D.': phd, 'Masters': masters, 'Bachelors': bachelors}, ignore_index=True)\n",
      "C:\\Users\\profe\\AppData\\Local\\Temp\\ipykernel_5868\\3978838614.py:78: FutureWarning: The frame.append method is deprecated and will be removed from pandas in a future version. Use pandas.concat instead.\n",
      "  df = df.append({'Faculty Member': name, 'Ph.D.': phd, 'Masters': masters, 'Bachelors': bachelors}, ignore_index=True)\n",
      "C:\\Users\\profe\\AppData\\Local\\Temp\\ipykernel_5868\\3978838614.py:78: FutureWarning: The frame.append method is deprecated and will be removed from pandas in a future version. Use pandas.concat instead.\n",
      "  df = df.append({'Faculty Member': name, 'Ph.D.': phd, 'Masters': masters, 'Bachelors': bachelors}, ignore_index=True)\n",
      "C:\\Users\\profe\\AppData\\Local\\Temp\\ipykernel_5868\\3978838614.py:78: FutureWarning: The frame.append method is deprecated and will be removed from pandas in a future version. Use pandas.concat instead.\n",
      "  df = df.append({'Faculty Member': name, 'Ph.D.': phd, 'Masters': masters, 'Bachelors': bachelors}, ignore_index=True)\n",
      "C:\\Users\\profe\\AppData\\Local\\Temp\\ipykernel_5868\\3978838614.py:78: FutureWarning: The frame.append method is deprecated and will be removed from pandas in a future version. Use pandas.concat instead.\n",
      "  df = df.append({'Faculty Member': name, 'Ph.D.': phd, 'Masters': masters, 'Bachelors': bachelors}, ignore_index=True)\n",
      "C:\\Users\\profe\\AppData\\Local\\Temp\\ipykernel_5868\\3978838614.py:78: FutureWarning: The frame.append method is deprecated and will be removed from pandas in a future version. Use pandas.concat instead.\n",
      "  df = df.append({'Faculty Member': name, 'Ph.D.': phd, 'Masters': masters, 'Bachelors': bachelors}, ignore_index=True)\n",
      "C:\\Users\\profe\\AppData\\Local\\Temp\\ipykernel_5868\\3978838614.py:78: FutureWarning: The frame.append method is deprecated and will be removed from pandas in a future version. Use pandas.concat instead.\n",
      "  df = df.append({'Faculty Member': name, 'Ph.D.': phd, 'Masters': masters, 'Bachelors': bachelors}, ignore_index=True)\n",
      "C:\\Users\\profe\\AppData\\Local\\Temp\\ipykernel_5868\\3978838614.py:78: FutureWarning: The frame.append method is deprecated and will be removed from pandas in a future version. Use pandas.concat instead.\n",
      "  df = df.append({'Faculty Member': name, 'Ph.D.': phd, 'Masters': masters, 'Bachelors': bachelors}, ignore_index=True)\n",
      "C:\\Users\\profe\\AppData\\Local\\Temp\\ipykernel_5868\\3978838614.py:78: FutureWarning: The frame.append method is deprecated and will be removed from pandas in a future version. Use pandas.concat instead.\n",
      "  df = df.append({'Faculty Member': name, 'Ph.D.': phd, 'Masters': masters, 'Bachelors': bachelors}, ignore_index=True)\n",
      "C:\\Users\\profe\\AppData\\Local\\Temp\\ipykernel_5868\\3978838614.py:78: FutureWarning: The frame.append method is deprecated and will be removed from pandas in a future version. Use pandas.concat instead.\n",
      "  df = df.append({'Faculty Member': name, 'Ph.D.': phd, 'Masters': masters, 'Bachelors': bachelors}, ignore_index=True)\n",
      "C:\\Users\\profe\\AppData\\Local\\Temp\\ipykernel_5868\\3978838614.py:78: FutureWarning: The frame.append method is deprecated and will be removed from pandas in a future version. Use pandas.concat instead.\n",
      "  df = df.append({'Faculty Member': name, 'Ph.D.': phd, 'Masters': masters, 'Bachelors': bachelors}, ignore_index=True)\n",
      "C:\\Users\\profe\\AppData\\Local\\Temp\\ipykernel_5868\\3978838614.py:78: FutureWarning: The frame.append method is deprecated and will be removed from pandas in a future version. Use pandas.concat instead.\n",
      "  df = df.append({'Faculty Member': name, 'Ph.D.': phd, 'Masters': masters, 'Bachelors': bachelors}, ignore_index=True)\n",
      "C:\\Users\\profe\\AppData\\Local\\Temp\\ipykernel_5868\\3978838614.py:78: FutureWarning: The frame.append method is deprecated and will be removed from pandas in a future version. Use pandas.concat instead.\n",
      "  df = df.append({'Faculty Member': name, 'Ph.D.': phd, 'Masters': masters, 'Bachelors': bachelors}, ignore_index=True)\n",
      "C:\\Users\\profe\\AppData\\Local\\Temp\\ipykernel_5868\\3978838614.py:78: FutureWarning: The frame.append method is deprecated and will be removed from pandas in a future version. Use pandas.concat instead.\n",
      "  df = df.append({'Faculty Member': name, 'Ph.D.': phd, 'Masters': masters, 'Bachelors': bachelors}, ignore_index=True)\n",
      "C:\\Users\\profe\\AppData\\Local\\Temp\\ipykernel_5868\\3978838614.py:78: FutureWarning: The frame.append method is deprecated and will be removed from pandas in a future version. Use pandas.concat instead.\n",
      "  df = df.append({'Faculty Member': name, 'Ph.D.': phd, 'Masters': masters, 'Bachelors': bachelors}, ignore_index=True)\n",
      "C:\\Users\\profe\\AppData\\Local\\Temp\\ipykernel_5868\\3978838614.py:78: FutureWarning: The frame.append method is deprecated and will be removed from pandas in a future version. Use pandas.concat instead.\n",
      "  df = df.append({'Faculty Member': name, 'Ph.D.': phd, 'Masters': masters, 'Bachelors': bachelors}, ignore_index=True)\n",
      "C:\\Users\\profe\\AppData\\Local\\Temp\\ipykernel_5868\\3978838614.py:78: FutureWarning: The frame.append method is deprecated and will be removed from pandas in a future version. Use pandas.concat instead.\n",
      "  df = df.append({'Faculty Member': name, 'Ph.D.': phd, 'Masters': masters, 'Bachelors': bachelors}, ignore_index=True)\n",
      "C:\\Users\\profe\\AppData\\Local\\Temp\\ipykernel_5868\\3978838614.py:78: FutureWarning: The frame.append method is deprecated and will be removed from pandas in a future version. Use pandas.concat instead.\n",
      "  df = df.append({'Faculty Member': name, 'Ph.D.': phd, 'Masters': masters, 'Bachelors': bachelors}, ignore_index=True)\n",
      "C:\\Users\\profe\\AppData\\Local\\Temp\\ipykernel_5868\\3978838614.py:78: FutureWarning: The frame.append method is deprecated and will be removed from pandas in a future version. Use pandas.concat instead.\n",
      "  df = df.append({'Faculty Member': name, 'Ph.D.': phd, 'Masters': masters, 'Bachelors': bachelors}, ignore_index=True)\n",
      "C:\\Users\\profe\\AppData\\Local\\Temp\\ipykernel_5868\\3978838614.py:78: FutureWarning: The frame.append method is deprecated and will be removed from pandas in a future version. Use pandas.concat instead.\n",
      "  df = df.append({'Faculty Member': name, 'Ph.D.': phd, 'Masters': masters, 'Bachelors': bachelors}, ignore_index=True)\n",
      "C:\\Users\\profe\\AppData\\Local\\Temp\\ipykernel_5868\\3978838614.py:78: FutureWarning: The frame.append method is deprecated and will be removed from pandas in a future version. Use pandas.concat instead.\n",
      "  df = df.append({'Faculty Member': name, 'Ph.D.': phd, 'Masters': masters, 'Bachelors': bachelors}, ignore_index=True)\n",
      "C:\\Users\\profe\\AppData\\Local\\Temp\\ipykernel_5868\\3978838614.py:78: FutureWarning: The frame.append method is deprecated and will be removed from pandas in a future version. Use pandas.concat instead.\n",
      "  df = df.append({'Faculty Member': name, 'Ph.D.': phd, 'Masters': masters, 'Bachelors': bachelors}, ignore_index=True)\n",
      "C:\\Users\\profe\\AppData\\Local\\Temp\\ipykernel_5868\\3978838614.py:78: FutureWarning: The frame.append method is deprecated and will be removed from pandas in a future version. Use pandas.concat instead.\n",
      "  df = df.append({'Faculty Member': name, 'Ph.D.': phd, 'Masters': masters, 'Bachelors': bachelors}, ignore_index=True)\n",
      "C:\\Users\\profe\\AppData\\Local\\Temp\\ipykernel_5868\\3978838614.py:78: FutureWarning: The frame.append method is deprecated and will be removed from pandas in a future version. Use pandas.concat instead.\n",
      "  df = df.append({'Faculty Member': name, 'Ph.D.': phd, 'Masters': masters, 'Bachelors': bachelors}, ignore_index=True)\n",
      "C:\\Users\\profe\\AppData\\Local\\Temp\\ipykernel_5868\\3978838614.py:78: FutureWarning: The frame.append method is deprecated and will be removed from pandas in a future version. Use pandas.concat instead.\n",
      "  df = df.append({'Faculty Member': name, 'Ph.D.': phd, 'Masters': masters, 'Bachelors': bachelors}, ignore_index=True)\n",
      "C:\\Users\\profe\\AppData\\Local\\Temp\\ipykernel_5868\\3978838614.py:78: FutureWarning: The frame.append method is deprecated and will be removed from pandas in a future version. Use pandas.concat instead.\n",
      "  df = df.append({'Faculty Member': name, 'Ph.D.': phd, 'Masters': masters, 'Bachelors': bachelors}, ignore_index=True)\n",
      "C:\\Users\\profe\\AppData\\Local\\Temp\\ipykernel_5868\\3978838614.py:78: FutureWarning: The frame.append method is deprecated and will be removed from pandas in a future version. Use pandas.concat instead.\n",
      "  df = df.append({'Faculty Member': name, 'Ph.D.': phd, 'Masters': masters, 'Bachelors': bachelors}, ignore_index=True)\n",
      "C:\\Users\\profe\\AppData\\Local\\Temp\\ipykernel_5868\\3978838614.py:78: FutureWarning: The frame.append method is deprecated and will be removed from pandas in a future version. Use pandas.concat instead.\n",
      "  df = df.append({'Faculty Member': name, 'Ph.D.': phd, 'Masters': masters, 'Bachelors': bachelors}, ignore_index=True)\n",
      "C:\\Users\\profe\\AppData\\Local\\Temp\\ipykernel_5868\\3978838614.py:78: FutureWarning: The frame.append method is deprecated and will be removed from pandas in a future version. Use pandas.concat instead.\n",
      "  df = df.append({'Faculty Member': name, 'Ph.D.': phd, 'Masters': masters, 'Bachelors': bachelors}, ignore_index=True)\n",
      "C:\\Users\\profe\\AppData\\Local\\Temp\\ipykernel_5868\\3978838614.py:78: FutureWarning: The frame.append method is deprecated and will be removed from pandas in a future version. Use pandas.concat instead.\n",
      "  df = df.append({'Faculty Member': name, 'Ph.D.': phd, 'Masters': masters, 'Bachelors': bachelors}, ignore_index=True)\n",
      "C:\\Users\\profe\\AppData\\Local\\Temp\\ipykernel_5868\\3978838614.py:78: FutureWarning: The frame.append method is deprecated and will be removed from pandas in a future version. Use pandas.concat instead.\n",
      "  df = df.append({'Faculty Member': name, 'Ph.D.': phd, 'Masters': masters, 'Bachelors': bachelors}, ignore_index=True)\n",
      "C:\\Users\\profe\\AppData\\Local\\Temp\\ipykernel_5868\\3978838614.py:78: FutureWarning: The frame.append method is deprecated and will be removed from pandas in a future version. Use pandas.concat instead.\n",
      "  df = df.append({'Faculty Member': name, 'Ph.D.': phd, 'Masters': masters, 'Bachelors': bachelors}, ignore_index=True)\n",
      "C:\\Users\\profe\\AppData\\Local\\Temp\\ipykernel_5868\\3978838614.py:78: FutureWarning: The frame.append method is deprecated and will be removed from pandas in a future version. Use pandas.concat instead.\n",
      "  df = df.append({'Faculty Member': name, 'Ph.D.': phd, 'Masters': masters, 'Bachelors': bachelors}, ignore_index=True)\n",
      "C:\\Users\\profe\\AppData\\Local\\Temp\\ipykernel_5868\\3978838614.py:78: FutureWarning: The frame.append method is deprecated and will be removed from pandas in a future version. Use pandas.concat instead.\n",
      "  df = df.append({'Faculty Member': name, 'Ph.D.': phd, 'Masters': masters, 'Bachelors': bachelors}, ignore_index=True)\n",
      "C:\\Users\\profe\\AppData\\Local\\Temp\\ipykernel_5868\\3978838614.py:78: FutureWarning: The frame.append method is deprecated and will be removed from pandas in a future version. Use pandas.concat instead.\n",
      "  df = df.append({'Faculty Member': name, 'Ph.D.': phd, 'Masters': masters, 'Bachelors': bachelors}, ignore_index=True)\n",
      "C:\\Users\\profe\\AppData\\Local\\Temp\\ipykernel_5868\\3978838614.py:78: FutureWarning: The frame.append method is deprecated and will be removed from pandas in a future version. Use pandas.concat instead.\n",
      "  df = df.append({'Faculty Member': name, 'Ph.D.': phd, 'Masters': masters, 'Bachelors': bachelors}, ignore_index=True)\n",
      "C:\\Users\\profe\\AppData\\Local\\Temp\\ipykernel_5868\\3978838614.py:78: FutureWarning: The frame.append method is deprecated and will be removed from pandas in a future version. Use pandas.concat instead.\n",
      "  df = df.append({'Faculty Member': name, 'Ph.D.': phd, 'Masters': masters, 'Bachelors': bachelors}, ignore_index=True)\n",
      "C:\\Users\\profe\\AppData\\Local\\Temp\\ipykernel_5868\\3978838614.py:78: FutureWarning: The frame.append method is deprecated and will be removed from pandas in a future version. Use pandas.concat instead.\n",
      "  df = df.append({'Faculty Member': name, 'Ph.D.': phd, 'Masters': masters, 'Bachelors': bachelors}, ignore_index=True)\n",
      "C:\\Users\\profe\\AppData\\Local\\Temp\\ipykernel_5868\\3978838614.py:78: FutureWarning: The frame.append method is deprecated and will be removed from pandas in a future version. Use pandas.concat instead.\n",
      "  df = df.append({'Faculty Member': name, 'Ph.D.': phd, 'Masters': masters, 'Bachelors': bachelors}, ignore_index=True)\n",
      "C:\\Users\\profe\\AppData\\Local\\Temp\\ipykernel_5868\\3978838614.py:78: FutureWarning: The frame.append method is deprecated and will be removed from pandas in a future version. Use pandas.concat instead.\n",
      "  df = df.append({'Faculty Member': name, 'Ph.D.': phd, 'Masters': masters, 'Bachelors': bachelors}, ignore_index=True)\n",
      "C:\\Users\\profe\\AppData\\Local\\Temp\\ipykernel_5868\\3978838614.py:78: FutureWarning: The frame.append method is deprecated and will be removed from pandas in a future version. Use pandas.concat instead.\n",
      "  df = df.append({'Faculty Member': name, 'Ph.D.': phd, 'Masters': masters, 'Bachelors': bachelors}, ignore_index=True)\n",
      "C:\\Users\\profe\\AppData\\Local\\Temp\\ipykernel_5868\\3978838614.py:78: FutureWarning: The frame.append method is deprecated and will be removed from pandas in a future version. Use pandas.concat instead.\n",
      "  df = df.append({'Faculty Member': name, 'Ph.D.': phd, 'Masters': masters, 'Bachelors': bachelors}, ignore_index=True)\n",
      "C:\\Users\\profe\\AppData\\Local\\Temp\\ipykernel_5868\\3978838614.py:78: FutureWarning: The frame.append method is deprecated and will be removed from pandas in a future version. Use pandas.concat instead.\n",
      "  df = df.append({'Faculty Member': name, 'Ph.D.': phd, 'Masters': masters, 'Bachelors': bachelors}, ignore_index=True)\n",
      "C:\\Users\\profe\\AppData\\Local\\Temp\\ipykernel_5868\\3978838614.py:78: FutureWarning: The frame.append method is deprecated and will be removed from pandas in a future version. Use pandas.concat instead.\n",
      "  df = df.append({'Faculty Member': name, 'Ph.D.': phd, 'Masters': masters, 'Bachelors': bachelors}, ignore_index=True)\n",
      "C:\\Users\\profe\\AppData\\Local\\Temp\\ipykernel_5868\\3978838614.py:78: FutureWarning: The frame.append method is deprecated and will be removed from pandas in a future version. Use pandas.concat instead.\n",
      "  df = df.append({'Faculty Member': name, 'Ph.D.': phd, 'Masters': masters, 'Bachelors': bachelors}, ignore_index=True)\n",
      "C:\\Users\\profe\\AppData\\Local\\Temp\\ipykernel_5868\\3978838614.py:78: FutureWarning: The frame.append method is deprecated and will be removed from pandas in a future version. Use pandas.concat instead.\n",
      "  df = df.append({'Faculty Member': name, 'Ph.D.': phd, 'Masters': masters, 'Bachelors': bachelors}, ignore_index=True)\n",
      "C:\\Users\\profe\\AppData\\Local\\Temp\\ipykernel_5868\\3978838614.py:78: FutureWarning: The frame.append method is deprecated and will be removed from pandas in a future version. Use pandas.concat instead.\n",
      "  df = df.append({'Faculty Member': name, 'Ph.D.': phd, 'Masters': masters, 'Bachelors': bachelors}, ignore_index=True)\n",
      "C:\\Users\\profe\\AppData\\Local\\Temp\\ipykernel_5868\\3978838614.py:78: FutureWarning: The frame.append method is deprecated and will be removed from pandas in a future version. Use pandas.concat instead.\n",
      "  df = df.append({'Faculty Member': name, 'Ph.D.': phd, 'Masters': masters, 'Bachelors': bachelors}, ignore_index=True)\n",
      "C:\\Users\\profe\\AppData\\Local\\Temp\\ipykernel_5868\\3978838614.py:78: FutureWarning: The frame.append method is deprecated and will be removed from pandas in a future version. Use pandas.concat instead.\n",
      "  df = df.append({'Faculty Member': name, 'Ph.D.': phd, 'Masters': masters, 'Bachelors': bachelors}, ignore_index=True)\n",
      "C:\\Users\\profe\\AppData\\Local\\Temp\\ipykernel_5868\\3978838614.py:78: FutureWarning: The frame.append method is deprecated and will be removed from pandas in a future version. Use pandas.concat instead.\n",
      "  df = df.append({'Faculty Member': name, 'Ph.D.': phd, 'Masters': masters, 'Bachelors': bachelors}, ignore_index=True)\n",
      "C:\\Users\\profe\\AppData\\Local\\Temp\\ipykernel_5868\\3978838614.py:78: FutureWarning: The frame.append method is deprecated and will be removed from pandas in a future version. Use pandas.concat instead.\n",
      "  df = df.append({'Faculty Member': name, 'Ph.D.': phd, 'Masters': masters, 'Bachelors': bachelors}, ignore_index=True)\n",
      "C:\\Users\\profe\\AppData\\Local\\Temp\\ipykernel_5868\\3978838614.py:78: FutureWarning: The frame.append method is deprecated and will be removed from pandas in a future version. Use pandas.concat instead.\n",
      "  df = df.append({'Faculty Member': name, 'Ph.D.': phd, 'Masters': masters, 'Bachelors': bachelors}, ignore_index=True)\n",
      "C:\\Users\\profe\\AppData\\Local\\Temp\\ipykernel_5868\\3978838614.py:78: FutureWarning: The frame.append method is deprecated and will be removed from pandas in a future version. Use pandas.concat instead.\n",
      "  df = df.append({'Faculty Member': name, 'Ph.D.': phd, 'Masters': masters, 'Bachelors': bachelors}, ignore_index=True)\n",
      "C:\\Users\\profe\\AppData\\Local\\Temp\\ipykernel_5868\\3978838614.py:78: FutureWarning: The frame.append method is deprecated and will be removed from pandas in a future version. Use pandas.concat instead.\n",
      "  df = df.append({'Faculty Member': name, 'Ph.D.': phd, 'Masters': masters, 'Bachelors': bachelors}, ignore_index=True)\n",
      "C:\\Users\\profe\\AppData\\Local\\Temp\\ipykernel_5868\\3978838614.py:78: FutureWarning: The frame.append method is deprecated and will be removed from pandas in a future version. Use pandas.concat instead.\n",
      "  df = df.append({'Faculty Member': name, 'Ph.D.': phd, 'Masters': masters, 'Bachelors': bachelors}, ignore_index=True)\n",
      "C:\\Users\\profe\\AppData\\Local\\Temp\\ipykernel_5868\\3978838614.py:78: FutureWarning: The frame.append method is deprecated and will be removed from pandas in a future version. Use pandas.concat instead.\n",
      "  df = df.append({'Faculty Member': name, 'Ph.D.': phd, 'Masters': masters, 'Bachelors': bachelors}, ignore_index=True)\n",
      "C:\\Users\\profe\\AppData\\Local\\Temp\\ipykernel_5868\\3978838614.py:78: FutureWarning: The frame.append method is deprecated and will be removed from pandas in a future version. Use pandas.concat instead.\n",
      "  df = df.append({'Faculty Member': name, 'Ph.D.': phd, 'Masters': masters, 'Bachelors': bachelors}, ignore_index=True)\n",
      "C:\\Users\\profe\\AppData\\Local\\Temp\\ipykernel_5868\\3978838614.py:78: FutureWarning: The frame.append method is deprecated and will be removed from pandas in a future version. Use pandas.concat instead.\n",
      "  df = df.append({'Faculty Member': name, 'Ph.D.': phd, 'Masters': masters, 'Bachelors': bachelors}, ignore_index=True)\n",
      "C:\\Users\\profe\\AppData\\Local\\Temp\\ipykernel_5868\\3978838614.py:78: FutureWarning: The frame.append method is deprecated and will be removed from pandas in a future version. Use pandas.concat instead.\n",
      "  df = df.append({'Faculty Member': name, 'Ph.D.': phd, 'Masters': masters, 'Bachelors': bachelors}, ignore_index=True)\n",
      "C:\\Users\\profe\\AppData\\Local\\Temp\\ipykernel_5868\\3978838614.py:78: FutureWarning: The frame.append method is deprecated and will be removed from pandas in a future version. Use pandas.concat instead.\n",
      "  df = df.append({'Faculty Member': name, 'Ph.D.': phd, 'Masters': masters, 'Bachelors': bachelors}, ignore_index=True)\n",
      "C:\\Users\\profe\\AppData\\Local\\Temp\\ipykernel_5868\\3978838614.py:78: FutureWarning: The frame.append method is deprecated and will be removed from pandas in a future version. Use pandas.concat instead.\n",
      "  df = df.append({'Faculty Member': name, 'Ph.D.': phd, 'Masters': masters, 'Bachelors': bachelors}, ignore_index=True)\n",
      "C:\\Users\\profe\\AppData\\Local\\Temp\\ipykernel_5868\\3978838614.py:78: FutureWarning: The frame.append method is deprecated and will be removed from pandas in a future version. Use pandas.concat instead.\n",
      "  df = df.append({'Faculty Member': name, 'Ph.D.': phd, 'Masters': masters, 'Bachelors': bachelors}, ignore_index=True)\n",
      "C:\\Users\\profe\\AppData\\Local\\Temp\\ipykernel_5868\\3978838614.py:78: FutureWarning: The frame.append method is deprecated and will be removed from pandas in a future version. Use pandas.concat instead.\n",
      "  df = df.append({'Faculty Member': name, 'Ph.D.': phd, 'Masters': masters, 'Bachelors': bachelors}, ignore_index=True)\n",
      "C:\\Users\\profe\\AppData\\Local\\Temp\\ipykernel_5868\\3978838614.py:78: FutureWarning: The frame.append method is deprecated and will be removed from pandas in a future version. Use pandas.concat instead.\n",
      "  df = df.append({'Faculty Member': name, 'Ph.D.': phd, 'Masters': masters, 'Bachelors': bachelors}, ignore_index=True)\n",
      "C:\\Users\\profe\\AppData\\Local\\Temp\\ipykernel_5868\\3978838614.py:78: FutureWarning: The frame.append method is deprecated and will be removed from pandas in a future version. Use pandas.concat instead.\n",
      "  df = df.append({'Faculty Member': name, 'Ph.D.': phd, 'Masters': masters, 'Bachelors': bachelors}, ignore_index=True)\n",
      "C:\\Users\\profe\\AppData\\Local\\Temp\\ipykernel_5868\\3978838614.py:78: FutureWarning: The frame.append method is deprecated and will be removed from pandas in a future version. Use pandas.concat instead.\n",
      "  df = df.append({'Faculty Member': name, 'Ph.D.': phd, 'Masters': masters, 'Bachelors': bachelors}, ignore_index=True)\n",
      "C:\\Users\\profe\\AppData\\Local\\Temp\\ipykernel_5868\\3978838614.py:78: FutureWarning: The frame.append method is deprecated and will be removed from pandas in a future version. Use pandas.concat instead.\n",
      "  df = df.append({'Faculty Member': name, 'Ph.D.': phd, 'Masters': masters, 'Bachelors': bachelors}, ignore_index=True)\n",
      "C:\\Users\\profe\\AppData\\Local\\Temp\\ipykernel_5868\\3978838614.py:78: FutureWarning: The frame.append method is deprecated and will be removed from pandas in a future version. Use pandas.concat instead.\n",
      "  df = df.append({'Faculty Member': name, 'Ph.D.': phd, 'Masters': masters, 'Bachelors': bachelors}, ignore_index=True)\n",
      "C:\\Users\\profe\\AppData\\Local\\Temp\\ipykernel_5868\\3978838614.py:78: FutureWarning: The frame.append method is deprecated and will be removed from pandas in a future version. Use pandas.concat instead.\n",
      "  df = df.append({'Faculty Member': name, 'Ph.D.': phd, 'Masters': masters, 'Bachelors': bachelors}, ignore_index=True)\n",
      "C:\\Users\\profe\\AppData\\Local\\Temp\\ipykernel_5868\\3978838614.py:78: FutureWarning: The frame.append method is deprecated and will be removed from pandas in a future version. Use pandas.concat instead.\n",
      "  df = df.append({'Faculty Member': name, 'Ph.D.': phd, 'Masters': masters, 'Bachelors': bachelors}, ignore_index=True)\n",
      "C:\\Users\\profe\\AppData\\Local\\Temp\\ipykernel_5868\\3978838614.py:78: FutureWarning: The frame.append method is deprecated and will be removed from pandas in a future version. Use pandas.concat instead.\n",
      "  df = df.append({'Faculty Member': name, 'Ph.D.': phd, 'Masters': masters, 'Bachelors': bachelors}, ignore_index=True)\n",
      "C:\\Users\\profe\\AppData\\Local\\Temp\\ipykernel_5868\\3978838614.py:78: FutureWarning: The frame.append method is deprecated and will be removed from pandas in a future version. Use pandas.concat instead.\n",
      "  df = df.append({'Faculty Member': name, 'Ph.D.': phd, 'Masters': masters, 'Bachelors': bachelors}, ignore_index=True)\n",
      "C:\\Users\\profe\\AppData\\Local\\Temp\\ipykernel_5868\\3978838614.py:78: FutureWarning: The frame.append method is deprecated and will be removed from pandas in a future version. Use pandas.concat instead.\n",
      "  df = df.append({'Faculty Member': name, 'Ph.D.': phd, 'Masters': masters, 'Bachelors': bachelors}, ignore_index=True)\n",
      "C:\\Users\\profe\\AppData\\Local\\Temp\\ipykernel_5868\\3978838614.py:78: FutureWarning: The frame.append method is deprecated and will be removed from pandas in a future version. Use pandas.concat instead.\n",
      "  df = df.append({'Faculty Member': name, 'Ph.D.': phd, 'Masters': masters, 'Bachelors': bachelors}, ignore_index=True)\n",
      "C:\\Users\\profe\\AppData\\Local\\Temp\\ipykernel_5868\\3978838614.py:78: FutureWarning: The frame.append method is deprecated and will be removed from pandas in a future version. Use pandas.concat instead.\n",
      "  df = df.append({'Faculty Member': name, 'Ph.D.': phd, 'Masters': masters, 'Bachelors': bachelors}, ignore_index=True)\n",
      "C:\\Users\\profe\\AppData\\Local\\Temp\\ipykernel_5868\\3978838614.py:78: FutureWarning: The frame.append method is deprecated and will be removed from pandas in a future version. Use pandas.concat instead.\n",
      "  df = df.append({'Faculty Member': name, 'Ph.D.': phd, 'Masters': masters, 'Bachelors': bachelors}, ignore_index=True)\n",
      "C:\\Users\\profe\\AppData\\Local\\Temp\\ipykernel_5868\\3978838614.py:78: FutureWarning: The frame.append method is deprecated and will be removed from pandas in a future version. Use pandas.concat instead.\n",
      "  df = df.append({'Faculty Member': name, 'Ph.D.': phd, 'Masters': masters, 'Bachelors': bachelors}, ignore_index=True)\n",
      "C:\\Users\\profe\\AppData\\Local\\Temp\\ipykernel_5868\\3978838614.py:78: FutureWarning: The frame.append method is deprecated and will be removed from pandas in a future version. Use pandas.concat instead.\n",
      "  df = df.append({'Faculty Member': name, 'Ph.D.': phd, 'Masters': masters, 'Bachelors': bachelors}, ignore_index=True)\n",
      "C:\\Users\\profe\\AppData\\Local\\Temp\\ipykernel_5868\\3978838614.py:78: FutureWarning: The frame.append method is deprecated and will be removed from pandas in a future version. Use pandas.concat instead.\n",
      "  df = df.append({'Faculty Member': name, 'Ph.D.': phd, 'Masters': masters, 'Bachelors': bachelors}, ignore_index=True)\n",
      "C:\\Users\\profe\\AppData\\Local\\Temp\\ipykernel_5868\\3978838614.py:78: FutureWarning: The frame.append method is deprecated and will be removed from pandas in a future version. Use pandas.concat instead.\n",
      "  df = df.append({'Faculty Member': name, 'Ph.D.': phd, 'Masters': masters, 'Bachelors': bachelors}, ignore_index=True)\n",
      "C:\\Users\\profe\\AppData\\Local\\Temp\\ipykernel_5868\\3978838614.py:78: FutureWarning: The frame.append method is deprecated and will be removed from pandas in a future version. Use pandas.concat instead.\n",
      "  df = df.append({'Faculty Member': name, 'Ph.D.': phd, 'Masters': masters, 'Bachelors': bachelors}, ignore_index=True)\n",
      "C:\\Users\\profe\\AppData\\Local\\Temp\\ipykernel_5868\\3978838614.py:78: FutureWarning: The frame.append method is deprecated and will be removed from pandas in a future version. Use pandas.concat instead.\n",
      "  df = df.append({'Faculty Member': name, 'Ph.D.': phd, 'Masters': masters, 'Bachelors': bachelors}, ignore_index=True)\n",
      "C:\\Users\\profe\\AppData\\Local\\Temp\\ipykernel_5868\\3978838614.py:78: FutureWarning: The frame.append method is deprecated and will be removed from pandas in a future version. Use pandas.concat instead.\n",
      "  df = df.append({'Faculty Member': name, 'Ph.D.': phd, 'Masters': masters, 'Bachelors': bachelors}, ignore_index=True)\n",
      "C:\\Users\\profe\\AppData\\Local\\Temp\\ipykernel_5868\\3978838614.py:78: FutureWarning: The frame.append method is deprecated and will be removed from pandas in a future version. Use pandas.concat instead.\n",
      "  df = df.append({'Faculty Member': name, 'Ph.D.': phd, 'Masters': masters, 'Bachelors': bachelors}, ignore_index=True)\n",
      "C:\\Users\\profe\\AppData\\Local\\Temp\\ipykernel_5868\\3978838614.py:78: FutureWarning: The frame.append method is deprecated and will be removed from pandas in a future version. Use pandas.concat instead.\n",
      "  df = df.append({'Faculty Member': name, 'Ph.D.': phd, 'Masters': masters, 'Bachelors': bachelors}, ignore_index=True)\n",
      "C:\\Users\\profe\\AppData\\Local\\Temp\\ipykernel_5868\\3978838614.py:78: FutureWarning: The frame.append method is deprecated and will be removed from pandas in a future version. Use pandas.concat instead.\n",
      "  df = df.append({'Faculty Member': name, 'Ph.D.': phd, 'Masters': masters, 'Bachelors': bachelors}, ignore_index=True)\n",
      "C:\\Users\\profe\\AppData\\Local\\Temp\\ipykernel_5868\\3978838614.py:78: FutureWarning: The frame.append method is deprecated and will be removed from pandas in a future version. Use pandas.concat instead.\n",
      "  df = df.append({'Faculty Member': name, 'Ph.D.': phd, 'Masters': masters, 'Bachelors': bachelors}, ignore_index=True)\n",
      "C:\\Users\\profe\\AppData\\Local\\Temp\\ipykernel_5868\\3978838614.py:78: FutureWarning: The frame.append method is deprecated and will be removed from pandas in a future version. Use pandas.concat instead.\n",
      "  df = df.append({'Faculty Member': name, 'Ph.D.': phd, 'Masters': masters, 'Bachelors': bachelors}, ignore_index=True)\n",
      "C:\\Users\\profe\\AppData\\Local\\Temp\\ipykernel_5868\\3978838614.py:78: FutureWarning: The frame.append method is deprecated and will be removed from pandas in a future version. Use pandas.concat instead.\n",
      "  df = df.append({'Faculty Member': name, 'Ph.D.': phd, 'Masters': masters, 'Bachelors': bachelors}, ignore_index=True)\n",
      "C:\\Users\\profe\\AppData\\Local\\Temp\\ipykernel_5868\\3978838614.py:78: FutureWarning: The frame.append method is deprecated and will be removed from pandas in a future version. Use pandas.concat instead.\n",
      "  df = df.append({'Faculty Member': name, 'Ph.D.': phd, 'Masters': masters, 'Bachelors': bachelors}, ignore_index=True)\n",
      "C:\\Users\\profe\\AppData\\Local\\Temp\\ipykernel_5868\\3978838614.py:78: FutureWarning: The frame.append method is deprecated and will be removed from pandas in a future version. Use pandas.concat instead.\n",
      "  df = df.append({'Faculty Member': name, 'Ph.D.': phd, 'Masters': masters, 'Bachelors': bachelors}, ignore_index=True)\n",
      "C:\\Users\\profe\\AppData\\Local\\Temp\\ipykernel_5868\\3978838614.py:78: FutureWarning: The frame.append method is deprecated and will be removed from pandas in a future version. Use pandas.concat instead.\n",
      "  df = df.append({'Faculty Member': name, 'Ph.D.': phd, 'Masters': masters, 'Bachelors': bachelors}, ignore_index=True)\n",
      "C:\\Users\\profe\\AppData\\Local\\Temp\\ipykernel_5868\\3978838614.py:78: FutureWarning: The frame.append method is deprecated and will be removed from pandas in a future version. Use pandas.concat instead.\n",
      "  df = df.append({'Faculty Member': name, 'Ph.D.': phd, 'Masters': masters, 'Bachelors': bachelors}, ignore_index=True)\n",
      "C:\\Users\\profe\\AppData\\Local\\Temp\\ipykernel_5868\\3978838614.py:78: FutureWarning: The frame.append method is deprecated and will be removed from pandas in a future version. Use pandas.concat instead.\n",
      "  df = df.append({'Faculty Member': name, 'Ph.D.': phd, 'Masters': masters, 'Bachelors': bachelors}, ignore_index=True)\n",
      "C:\\Users\\profe\\AppData\\Local\\Temp\\ipykernel_5868\\3978838614.py:78: FutureWarning: The frame.append method is deprecated and will be removed from pandas in a future version. Use pandas.concat instead.\n",
      "  df = df.append({'Faculty Member': name, 'Ph.D.': phd, 'Masters': masters, 'Bachelors': bachelors}, ignore_index=True)\n",
      "C:\\Users\\profe\\AppData\\Local\\Temp\\ipykernel_5868\\3978838614.py:78: FutureWarning: The frame.append method is deprecated and will be removed from pandas in a future version. Use pandas.concat instead.\n",
      "  df = df.append({'Faculty Member': name, 'Ph.D.': phd, 'Masters': masters, 'Bachelors': bachelors}, ignore_index=True)\n",
      "C:\\Users\\profe\\AppData\\Local\\Temp\\ipykernel_5868\\3978838614.py:78: FutureWarning: The frame.append method is deprecated and will be removed from pandas in a future version. Use pandas.concat instead.\n",
      "  df = df.append({'Faculty Member': name, 'Ph.D.': phd, 'Masters': masters, 'Bachelors': bachelors}, ignore_index=True)\n",
      "C:\\Users\\profe\\AppData\\Local\\Temp\\ipykernel_5868\\3978838614.py:78: FutureWarning: The frame.append method is deprecated and will be removed from pandas in a future version. Use pandas.concat instead.\n",
      "  df = df.append({'Faculty Member': name, 'Ph.D.': phd, 'Masters': masters, 'Bachelors': bachelors}, ignore_index=True)\n",
      "C:\\Users\\profe\\AppData\\Local\\Temp\\ipykernel_5868\\3978838614.py:78: FutureWarning: The frame.append method is deprecated and will be removed from pandas in a future version. Use pandas.concat instead.\n",
      "  df = df.append({'Faculty Member': name, 'Ph.D.': phd, 'Masters': masters, 'Bachelors': bachelors}, ignore_index=True)\n",
      "C:\\Users\\profe\\AppData\\Local\\Temp\\ipykernel_5868\\3978838614.py:78: FutureWarning: The frame.append method is deprecated and will be removed from pandas in a future version. Use pandas.concat instead.\n",
      "  df = df.append({'Faculty Member': name, 'Ph.D.': phd, 'Masters': masters, 'Bachelors': bachelors}, ignore_index=True)\n",
      "C:\\Users\\profe\\AppData\\Local\\Temp\\ipykernel_5868\\3978838614.py:78: FutureWarning: The frame.append method is deprecated and will be removed from pandas in a future version. Use pandas.concat instead.\n",
      "  df = df.append({'Faculty Member': name, 'Ph.D.': phd, 'Masters': masters, 'Bachelors': bachelors}, ignore_index=True)\n",
      "C:\\Users\\profe\\AppData\\Local\\Temp\\ipykernel_5868\\3978838614.py:78: FutureWarning: The frame.append method is deprecated and will be removed from pandas in a future version. Use pandas.concat instead.\n",
      "  df = df.append({'Faculty Member': name, 'Ph.D.': phd, 'Masters': masters, 'Bachelors': bachelors}, ignore_index=True)\n",
      "C:\\Users\\profe\\AppData\\Local\\Temp\\ipykernel_5868\\3978838614.py:78: FutureWarning: The frame.append method is deprecated and will be removed from pandas in a future version. Use pandas.concat instead.\n",
      "  df = df.append({'Faculty Member': name, 'Ph.D.': phd, 'Masters': masters, 'Bachelors': bachelors}, ignore_index=True)\n",
      "C:\\Users\\profe\\AppData\\Local\\Temp\\ipykernel_5868\\3978838614.py:78: FutureWarning: The frame.append method is deprecated and will be removed from pandas in a future version. Use pandas.concat instead.\n",
      "  df = df.append({'Faculty Member': name, 'Ph.D.': phd, 'Masters': masters, 'Bachelors': bachelors}, ignore_index=True)\n",
      "C:\\Users\\profe\\AppData\\Local\\Temp\\ipykernel_5868\\3978838614.py:78: FutureWarning: The frame.append method is deprecated and will be removed from pandas in a future version. Use pandas.concat instead.\n",
      "  df = df.append({'Faculty Member': name, 'Ph.D.': phd, 'Masters': masters, 'Bachelors': bachelors}, ignore_index=True)\n",
      "C:\\Users\\profe\\AppData\\Local\\Temp\\ipykernel_5868\\3978838614.py:78: FutureWarning: The frame.append method is deprecated and will be removed from pandas in a future version. Use pandas.concat instead.\n",
      "  df = df.append({'Faculty Member': name, 'Ph.D.': phd, 'Masters': masters, 'Bachelors': bachelors}, ignore_index=True)\n",
      "C:\\Users\\profe\\AppData\\Local\\Temp\\ipykernel_5868\\3978838614.py:78: FutureWarning: The frame.append method is deprecated and will be removed from pandas in a future version. Use pandas.concat instead.\n",
      "  df = df.append({'Faculty Member': name, 'Ph.D.': phd, 'Masters': masters, 'Bachelors': bachelors}, ignore_index=True)\n",
      "C:\\Users\\profe\\AppData\\Local\\Temp\\ipykernel_5868\\3978838614.py:78: FutureWarning: The frame.append method is deprecated and will be removed from pandas in a future version. Use pandas.concat instead.\n",
      "  df = df.append({'Faculty Member': name, 'Ph.D.': phd, 'Masters': masters, 'Bachelors': bachelors}, ignore_index=True)\n",
      "C:\\Users\\profe\\AppData\\Local\\Temp\\ipykernel_5868\\3978838614.py:78: FutureWarning: The frame.append method is deprecated and will be removed from pandas in a future version. Use pandas.concat instead.\n",
      "  df = df.append({'Faculty Member': name, 'Ph.D.': phd, 'Masters': masters, 'Bachelors': bachelors}, ignore_index=True)\n",
      "C:\\Users\\profe\\AppData\\Local\\Temp\\ipykernel_5868\\3978838614.py:78: FutureWarning: The frame.append method is deprecated and will be removed from pandas in a future version. Use pandas.concat instead.\n",
      "  df = df.append({'Faculty Member': name, 'Ph.D.': phd, 'Masters': masters, 'Bachelors': bachelors}, ignore_index=True)\n",
      "C:\\Users\\profe\\AppData\\Local\\Temp\\ipykernel_5868\\3978838614.py:78: FutureWarning: The frame.append method is deprecated and will be removed from pandas in a future version. Use pandas.concat instead.\n",
      "  df = df.append({'Faculty Member': name, 'Ph.D.': phd, 'Masters': masters, 'Bachelors': bachelors}, ignore_index=True)\n",
      "C:\\Users\\profe\\AppData\\Local\\Temp\\ipykernel_5868\\3978838614.py:78: FutureWarning: The frame.append method is deprecated and will be removed from pandas in a future version. Use pandas.concat instead.\n",
      "  df = df.append({'Faculty Member': name, 'Ph.D.': phd, 'Masters': masters, 'Bachelors': bachelors}, ignore_index=True)\n",
      "C:\\Users\\profe\\AppData\\Local\\Temp\\ipykernel_5868\\3978838614.py:78: FutureWarning: The frame.append method is deprecated and will be removed from pandas in a future version. Use pandas.concat instead.\n",
      "  df = df.append({'Faculty Member': name, 'Ph.D.': phd, 'Masters': masters, 'Bachelors': bachelors}, ignore_index=True)\n",
      "C:\\Users\\profe\\AppData\\Local\\Temp\\ipykernel_5868\\3978838614.py:78: FutureWarning: The frame.append method is deprecated and will be removed from pandas in a future version. Use pandas.concat instead.\n",
      "  df = df.append({'Faculty Member': name, 'Ph.D.': phd, 'Masters': masters, 'Bachelors': bachelors}, ignore_index=True)\n",
      "C:\\Users\\profe\\AppData\\Local\\Temp\\ipykernel_5868\\3978838614.py:78: FutureWarning: The frame.append method is deprecated and will be removed from pandas in a future version. Use pandas.concat instead.\n",
      "  df = df.append({'Faculty Member': name, 'Ph.D.': phd, 'Masters': masters, 'Bachelors': bachelors}, ignore_index=True)\n",
      "C:\\Users\\profe\\AppData\\Local\\Temp\\ipykernel_5868\\3978838614.py:78: FutureWarning: The frame.append method is deprecated and will be removed from pandas in a future version. Use pandas.concat instead.\n",
      "  df = df.append({'Faculty Member': name, 'Ph.D.': phd, 'Masters': masters, 'Bachelors': bachelors}, ignore_index=True)\n",
      "C:\\Users\\profe\\AppData\\Local\\Temp\\ipykernel_5868\\3978838614.py:78: FutureWarning: The frame.append method is deprecated and will be removed from pandas in a future version. Use pandas.concat instead.\n",
      "  df = df.append({'Faculty Member': name, 'Ph.D.': phd, 'Masters': masters, 'Bachelors': bachelors}, ignore_index=True)\n",
      "C:\\Users\\profe\\AppData\\Local\\Temp\\ipykernel_5868\\3978838614.py:78: FutureWarning: The frame.append method is deprecated and will be removed from pandas in a future version. Use pandas.concat instead.\n",
      "  df = df.append({'Faculty Member': name, 'Ph.D.': phd, 'Masters': masters, 'Bachelors': bachelors}, ignore_index=True)\n",
      "C:\\Users\\profe\\AppData\\Local\\Temp\\ipykernel_5868\\3978838614.py:78: FutureWarning: The frame.append method is deprecated and will be removed from pandas in a future version. Use pandas.concat instead.\n",
      "  df = df.append({'Faculty Member': name, 'Ph.D.': phd, 'Masters': masters, 'Bachelors': bachelors}, ignore_index=True)\n",
      "C:\\Users\\profe\\AppData\\Local\\Temp\\ipykernel_5868\\3978838614.py:78: FutureWarning: The frame.append method is deprecated and will be removed from pandas in a future version. Use pandas.concat instead.\n",
      "  df = df.append({'Faculty Member': name, 'Ph.D.': phd, 'Masters': masters, 'Bachelors': bachelors}, ignore_index=True)\n",
      "C:\\Users\\profe\\AppData\\Local\\Temp\\ipykernel_5868\\3978838614.py:78: FutureWarning: The frame.append method is deprecated and will be removed from pandas in a future version. Use pandas.concat instead.\n",
      "  df = df.append({'Faculty Member': name, 'Ph.D.': phd, 'Masters': masters, 'Bachelors': bachelors}, ignore_index=True)\n",
      "C:\\Users\\profe\\AppData\\Local\\Temp\\ipykernel_5868\\3978838614.py:78: FutureWarning: The frame.append method is deprecated and will be removed from pandas in a future version. Use pandas.concat instead.\n",
      "  df = df.append({'Faculty Member': name, 'Ph.D.': phd, 'Masters': masters, 'Bachelors': bachelors}, ignore_index=True)\n",
      "C:\\Users\\profe\\AppData\\Local\\Temp\\ipykernel_5868\\3978838614.py:78: FutureWarning: The frame.append method is deprecated and will be removed from pandas in a future version. Use pandas.concat instead.\n",
      "  df = df.append({'Faculty Member': name, 'Ph.D.': phd, 'Masters': masters, 'Bachelors': bachelors}, ignore_index=True)\n",
      "C:\\Users\\profe\\AppData\\Local\\Temp\\ipykernel_5868\\3978838614.py:78: FutureWarning: The frame.append method is deprecated and will be removed from pandas in a future version. Use pandas.concat instead.\n",
      "  df = df.append({'Faculty Member': name, 'Ph.D.': phd, 'Masters': masters, 'Bachelors': bachelors}, ignore_index=True)\n",
      "C:\\Users\\profe\\AppData\\Local\\Temp\\ipykernel_5868\\3978838614.py:78: FutureWarning: The frame.append method is deprecated and will be removed from pandas in a future version. Use pandas.concat instead.\n",
      "  df = df.append({'Faculty Member': name, 'Ph.D.': phd, 'Masters': masters, 'Bachelors': bachelors}, ignore_index=True)\n",
      "C:\\Users\\profe\\AppData\\Local\\Temp\\ipykernel_5868\\3978838614.py:78: FutureWarning: The frame.append method is deprecated and will be removed from pandas in a future version. Use pandas.concat instead.\n",
      "  df = df.append({'Faculty Member': name, 'Ph.D.': phd, 'Masters': masters, 'Bachelors': bachelors}, ignore_index=True)\n",
      "C:\\Users\\profe\\AppData\\Local\\Temp\\ipykernel_5868\\3978838614.py:78: FutureWarning: The frame.append method is deprecated and will be removed from pandas in a future version. Use pandas.concat instead.\n",
      "  df = df.append({'Faculty Member': name, 'Ph.D.': phd, 'Masters': masters, 'Bachelors': bachelors}, ignore_index=True)\n",
      "C:\\Users\\profe\\AppData\\Local\\Temp\\ipykernel_5868\\3978838614.py:78: FutureWarning: The frame.append method is deprecated and will be removed from pandas in a future version. Use pandas.concat instead.\n",
      "  df = df.append({'Faculty Member': name, 'Ph.D.': phd, 'Masters': masters, 'Bachelors': bachelors}, ignore_index=True)\n",
      "C:\\Users\\profe\\AppData\\Local\\Temp\\ipykernel_5868\\3978838614.py:78: FutureWarning: The frame.append method is deprecated and will be removed from pandas in a future version. Use pandas.concat instead.\n",
      "  df = df.append({'Faculty Member': name, 'Ph.D.': phd, 'Masters': masters, 'Bachelors': bachelors}, ignore_index=True)\n",
      "C:\\Users\\profe\\AppData\\Local\\Temp\\ipykernel_5868\\3978838614.py:78: FutureWarning: The frame.append method is deprecated and will be removed from pandas in a future version. Use pandas.concat instead.\n",
      "  df = df.append({'Faculty Member': name, 'Ph.D.': phd, 'Masters': masters, 'Bachelors': bachelors}, ignore_index=True)\n",
      "C:\\Users\\profe\\AppData\\Local\\Temp\\ipykernel_5868\\3978838614.py:78: FutureWarning: The frame.append method is deprecated and will be removed from pandas in a future version. Use pandas.concat instead.\n",
      "  df = df.append({'Faculty Member': name, 'Ph.D.': phd, 'Masters': masters, 'Bachelors': bachelors}, ignore_index=True)\n",
      "C:\\Users\\profe\\AppData\\Local\\Temp\\ipykernel_5868\\3978838614.py:78: FutureWarning: The frame.append method is deprecated and will be removed from pandas in a future version. Use pandas.concat instead.\n",
      "  df = df.append({'Faculty Member': name, 'Ph.D.': phd, 'Masters': masters, 'Bachelors': bachelors}, ignore_index=True)\n",
      "C:\\Users\\profe\\AppData\\Local\\Temp\\ipykernel_5868\\3978838614.py:78: FutureWarning: The frame.append method is deprecated and will be removed from pandas in a future version. Use pandas.concat instead.\n",
      "  df = df.append({'Faculty Member': name, 'Ph.D.': phd, 'Masters': masters, 'Bachelors': bachelors}, ignore_index=True)\n",
      "C:\\Users\\profe\\AppData\\Local\\Temp\\ipykernel_5868\\3978838614.py:78: FutureWarning: The frame.append method is deprecated and will be removed from pandas in a future version. Use pandas.concat instead.\n",
      "  df = df.append({'Faculty Member': name, 'Ph.D.': phd, 'Masters': masters, 'Bachelors': bachelors}, ignore_index=True)\n",
      "C:\\Users\\profe\\AppData\\Local\\Temp\\ipykernel_5868\\3978838614.py:78: FutureWarning: The frame.append method is deprecated and will be removed from pandas in a future version. Use pandas.concat instead.\n",
      "  df = df.append({'Faculty Member': name, 'Ph.D.': phd, 'Masters': masters, 'Bachelors': bachelors}, ignore_index=True)\n",
      "C:\\Users\\profe\\AppData\\Local\\Temp\\ipykernel_5868\\3978838614.py:78: FutureWarning: The frame.append method is deprecated and will be removed from pandas in a future version. Use pandas.concat instead.\n",
      "  df = df.append({'Faculty Member': name, 'Ph.D.': phd, 'Masters': masters, 'Bachelors': bachelors}, ignore_index=True)\n",
      "C:\\Users\\profe\\AppData\\Local\\Temp\\ipykernel_5868\\3978838614.py:78: FutureWarning: The frame.append method is deprecated and will be removed from pandas in a future version. Use pandas.concat instead.\n",
      "  df = df.append({'Faculty Member': name, 'Ph.D.': phd, 'Masters': masters, 'Bachelors': bachelors}, ignore_index=True)\n",
      "C:\\Users\\profe\\AppData\\Local\\Temp\\ipykernel_5868\\3978838614.py:78: FutureWarning: The frame.append method is deprecated and will be removed from pandas in a future version. Use pandas.concat instead.\n",
      "  df = df.append({'Faculty Member': name, 'Ph.D.': phd, 'Masters': masters, 'Bachelors': bachelors}, ignore_index=True)\n",
      "C:\\Users\\profe\\AppData\\Local\\Temp\\ipykernel_5868\\3978838614.py:78: FutureWarning: The frame.append method is deprecated and will be removed from pandas in a future version. Use pandas.concat instead.\n",
      "  df = df.append({'Faculty Member': name, 'Ph.D.': phd, 'Masters': masters, 'Bachelors': bachelors}, ignore_index=True)\n",
      "C:\\Users\\profe\\AppData\\Local\\Temp\\ipykernel_5868\\3978838614.py:78: FutureWarning: The frame.append method is deprecated and will be removed from pandas in a future version. Use pandas.concat instead.\n",
      "  df = df.append({'Faculty Member': name, 'Ph.D.': phd, 'Masters': masters, 'Bachelors': bachelors}, ignore_index=True)\n",
      "C:\\Users\\profe\\AppData\\Local\\Temp\\ipykernel_5868\\3978838614.py:78: FutureWarning: The frame.append method is deprecated and will be removed from pandas in a future version. Use pandas.concat instead.\n",
      "  df = df.append({'Faculty Member': name, 'Ph.D.': phd, 'Masters': masters, 'Bachelors': bachelors}, ignore_index=True)\n",
      "C:\\Users\\profe\\AppData\\Local\\Temp\\ipykernel_5868\\3978838614.py:78: FutureWarning: The frame.append method is deprecated and will be removed from pandas in a future version. Use pandas.concat instead.\n",
      "  df = df.append({'Faculty Member': name, 'Ph.D.': phd, 'Masters': masters, 'Bachelors': bachelors}, ignore_index=True)\n",
      "C:\\Users\\profe\\AppData\\Local\\Temp\\ipykernel_5868\\3978838614.py:78: FutureWarning: The frame.append method is deprecated and will be removed from pandas in a future version. Use pandas.concat instead.\n",
      "  df = df.append({'Faculty Member': name, 'Ph.D.': phd, 'Masters': masters, 'Bachelors': bachelors}, ignore_index=True)\n",
      "C:\\Users\\profe\\AppData\\Local\\Temp\\ipykernel_5868\\3978838614.py:78: FutureWarning: The frame.append method is deprecated and will be removed from pandas in a future version. Use pandas.concat instead.\n",
      "  df = df.append({'Faculty Member': name, 'Ph.D.': phd, 'Masters': masters, 'Bachelors': bachelors}, ignore_index=True)\n",
      "C:\\Users\\profe\\AppData\\Local\\Temp\\ipykernel_5868\\3978838614.py:78: FutureWarning: The frame.append method is deprecated and will be removed from pandas in a future version. Use pandas.concat instead.\n",
      "  df = df.append({'Faculty Member': name, 'Ph.D.': phd, 'Masters': masters, 'Bachelors': bachelors}, ignore_index=True)\n",
      "C:\\Users\\profe\\AppData\\Local\\Temp\\ipykernel_5868\\3978838614.py:78: FutureWarning: The frame.append method is deprecated and will be removed from pandas in a future version. Use pandas.concat instead.\n",
      "  df = df.append({'Faculty Member': name, 'Ph.D.': phd, 'Masters': masters, 'Bachelors': bachelors}, ignore_index=True)\n",
      "C:\\Users\\profe\\AppData\\Local\\Temp\\ipykernel_5868\\3978838614.py:78: FutureWarning: The frame.append method is deprecated and will be removed from pandas in a future version. Use pandas.concat instead.\n",
      "  df = df.append({'Faculty Member': name, 'Ph.D.': phd, 'Masters': masters, 'Bachelors': bachelors}, ignore_index=True)\n",
      "C:\\Users\\profe\\AppData\\Local\\Temp\\ipykernel_5868\\3978838614.py:78: FutureWarning: The frame.append method is deprecated and will be removed from pandas in a future version. Use pandas.concat instead.\n",
      "  df = df.append({'Faculty Member': name, 'Ph.D.': phd, 'Masters': masters, 'Bachelors': bachelors}, ignore_index=True)\n",
      "C:\\Users\\profe\\AppData\\Local\\Temp\\ipykernel_5868\\3978838614.py:78: FutureWarning: The frame.append method is deprecated and will be removed from pandas in a future version. Use pandas.concat instead.\n",
      "  df = df.append({'Faculty Member': name, 'Ph.D.': phd, 'Masters': masters, 'Bachelors': bachelors}, ignore_index=True)\n",
      "C:\\Users\\profe\\AppData\\Local\\Temp\\ipykernel_5868\\3978838614.py:78: FutureWarning: The frame.append method is deprecated and will be removed from pandas in a future version. Use pandas.concat instead.\n",
      "  df = df.append({'Faculty Member': name, 'Ph.D.': phd, 'Masters': masters, 'Bachelors': bachelors}, ignore_index=True)\n",
      "C:\\Users\\profe\\AppData\\Local\\Temp\\ipykernel_5868\\3978838614.py:78: FutureWarning: The frame.append method is deprecated and will be removed from pandas in a future version. Use pandas.concat instead.\n",
      "  df = df.append({'Faculty Member': name, 'Ph.D.': phd, 'Masters': masters, 'Bachelors': bachelors}, ignore_index=True)\n",
      "C:\\Users\\profe\\AppData\\Local\\Temp\\ipykernel_5868\\3978838614.py:78: FutureWarning: The frame.append method is deprecated and will be removed from pandas in a future version. Use pandas.concat instead.\n",
      "  df = df.append({'Faculty Member': name, 'Ph.D.': phd, 'Masters': masters, 'Bachelors': bachelors}, ignore_index=True)\n",
      "C:\\Users\\profe\\AppData\\Local\\Temp\\ipykernel_5868\\3978838614.py:78: FutureWarning: The frame.append method is deprecated and will be removed from pandas in a future version. Use pandas.concat instead.\n",
      "  df = df.append({'Faculty Member': name, 'Ph.D.': phd, 'Masters': masters, 'Bachelors': bachelors}, ignore_index=True)\n",
      "C:\\Users\\profe\\AppData\\Local\\Temp\\ipykernel_5868\\3978838614.py:78: FutureWarning: The frame.append method is deprecated and will be removed from pandas in a future version. Use pandas.concat instead.\n",
      "  df = df.append({'Faculty Member': name, 'Ph.D.': phd, 'Masters': masters, 'Bachelors': bachelors}, ignore_index=True)\n",
      "C:\\Users\\profe\\AppData\\Local\\Temp\\ipykernel_5868\\3978838614.py:78: FutureWarning: The frame.append method is deprecated and will be removed from pandas in a future version. Use pandas.concat instead.\n",
      "  df = df.append({'Faculty Member': name, 'Ph.D.': phd, 'Masters': masters, 'Bachelors': bachelors}, ignore_index=True)\n",
      "C:\\Users\\profe\\AppData\\Local\\Temp\\ipykernel_5868\\3978838614.py:78: FutureWarning: The frame.append method is deprecated and will be removed from pandas in a future version. Use pandas.concat instead.\n",
      "  df = df.append({'Faculty Member': name, 'Ph.D.': phd, 'Masters': masters, 'Bachelors': bachelors}, ignore_index=True)\n",
      "C:\\Users\\profe\\AppData\\Local\\Temp\\ipykernel_5868\\3978838614.py:78: FutureWarning: The frame.append method is deprecated and will be removed from pandas in a future version. Use pandas.concat instead.\n",
      "  df = df.append({'Faculty Member': name, 'Ph.D.': phd, 'Masters': masters, 'Bachelors': bachelors}, ignore_index=True)\n",
      "C:\\Users\\profe\\AppData\\Local\\Temp\\ipykernel_5868\\3978838614.py:78: FutureWarning: The frame.append method is deprecated and will be removed from pandas in a future version. Use pandas.concat instead.\n",
      "  df = df.append({'Faculty Member': name, 'Ph.D.': phd, 'Masters': masters, 'Bachelors': bachelors}, ignore_index=True)\n",
      "C:\\Users\\profe\\AppData\\Local\\Temp\\ipykernel_5868\\3978838614.py:78: FutureWarning: The frame.append method is deprecated and will be removed from pandas in a future version. Use pandas.concat instead.\n",
      "  df = df.append({'Faculty Member': name, 'Ph.D.': phd, 'Masters': masters, 'Bachelors': bachelors}, ignore_index=True)\n",
      "C:\\Users\\profe\\AppData\\Local\\Temp\\ipykernel_5868\\3978838614.py:78: FutureWarning: The frame.append method is deprecated and will be removed from pandas in a future version. Use pandas.concat instead.\n",
      "  df = df.append({'Faculty Member': name, 'Ph.D.': phd, 'Masters': masters, 'Bachelors': bachelors}, ignore_index=True)\n",
      "C:\\Users\\profe\\AppData\\Local\\Temp\\ipykernel_5868\\3978838614.py:78: FutureWarning: The frame.append method is deprecated and will be removed from pandas in a future version. Use pandas.concat instead.\n",
      "  df = df.append({'Faculty Member': name, 'Ph.D.': phd, 'Masters': masters, 'Bachelors': bachelors}, ignore_index=True)\n",
      "C:\\Users\\profe\\AppData\\Local\\Temp\\ipykernel_5868\\3978838614.py:78: FutureWarning: The frame.append method is deprecated and will be removed from pandas in a future version. Use pandas.concat instead.\n",
      "  df = df.append({'Faculty Member': name, 'Ph.D.': phd, 'Masters': masters, 'Bachelors': bachelors}, ignore_index=True)\n",
      "C:\\Users\\profe\\AppData\\Local\\Temp\\ipykernel_5868\\3978838614.py:78: FutureWarning: The frame.append method is deprecated and will be removed from pandas in a future version. Use pandas.concat instead.\n",
      "  df = df.append({'Faculty Member': name, 'Ph.D.': phd, 'Masters': masters, 'Bachelors': bachelors}, ignore_index=True)\n",
      "C:\\Users\\profe\\AppData\\Local\\Temp\\ipykernel_5868\\3978838614.py:78: FutureWarning: The frame.append method is deprecated and will be removed from pandas in a future version. Use pandas.concat instead.\n",
      "  df = df.append({'Faculty Member': name, 'Ph.D.': phd, 'Masters': masters, 'Bachelors': bachelors}, ignore_index=True)\n",
      "C:\\Users\\profe\\AppData\\Local\\Temp\\ipykernel_5868\\3978838614.py:78: FutureWarning: The frame.append method is deprecated and will be removed from pandas in a future version. Use pandas.concat instead.\n",
      "  df = df.append({'Faculty Member': name, 'Ph.D.': phd, 'Masters': masters, 'Bachelors': bachelors}, ignore_index=True)\n",
      "C:\\Users\\profe\\AppData\\Local\\Temp\\ipykernel_5868\\3978838614.py:78: FutureWarning: The frame.append method is deprecated and will be removed from pandas in a future version. Use pandas.concat instead.\n",
      "  df = df.append({'Faculty Member': name, 'Ph.D.': phd, 'Masters': masters, 'Bachelors': bachelors}, ignore_index=True)\n",
      "C:\\Users\\profe\\AppData\\Local\\Temp\\ipykernel_5868\\3978838614.py:78: FutureWarning: The frame.append method is deprecated and will be removed from pandas in a future version. Use pandas.concat instead.\n",
      "  df = df.append({'Faculty Member': name, 'Ph.D.': phd, 'Masters': masters, 'Bachelors': bachelors}, ignore_index=True)\n",
      "C:\\Users\\profe\\AppData\\Local\\Temp\\ipykernel_5868\\3978838614.py:78: FutureWarning: The frame.append method is deprecated and will be removed from pandas in a future version. Use pandas.concat instead.\n",
      "  df = df.append({'Faculty Member': name, 'Ph.D.': phd, 'Masters': masters, 'Bachelors': bachelors}, ignore_index=True)\n",
      "C:\\Users\\profe\\AppData\\Local\\Temp\\ipykernel_5868\\3978838614.py:78: FutureWarning: The frame.append method is deprecated and will be removed from pandas in a future version. Use pandas.concat instead.\n",
      "  df = df.append({'Faculty Member': name, 'Ph.D.': phd, 'Masters': masters, 'Bachelors': bachelors}, ignore_index=True)\n",
      "C:\\Users\\profe\\AppData\\Local\\Temp\\ipykernel_5868\\3978838614.py:78: FutureWarning: The frame.append method is deprecated and will be removed from pandas in a future version. Use pandas.concat instead.\n",
      "  df = df.append({'Faculty Member': name, 'Ph.D.': phd, 'Masters': masters, 'Bachelors': bachelors}, ignore_index=True)\n",
      "C:\\Users\\profe\\AppData\\Local\\Temp\\ipykernel_5868\\3978838614.py:78: FutureWarning: The frame.append method is deprecated and will be removed from pandas in a future version. Use pandas.concat instead.\n",
      "  df = df.append({'Faculty Member': name, 'Ph.D.': phd, 'Masters': masters, 'Bachelors': bachelors}, ignore_index=True)\n",
      "C:\\Users\\profe\\AppData\\Local\\Temp\\ipykernel_5868\\3978838614.py:78: FutureWarning: The frame.append method is deprecated and will be removed from pandas in a future version. Use pandas.concat instead.\n",
      "  df = df.append({'Faculty Member': name, 'Ph.D.': phd, 'Masters': masters, 'Bachelors': bachelors}, ignore_index=True)\n",
      "C:\\Users\\profe\\AppData\\Local\\Temp\\ipykernel_5868\\3978838614.py:78: FutureWarning: The frame.append method is deprecated and will be removed from pandas in a future version. Use pandas.concat instead.\n",
      "  df = df.append({'Faculty Member': name, 'Ph.D.': phd, 'Masters': masters, 'Bachelors': bachelors}, ignore_index=True)\n",
      "C:\\Users\\profe\\AppData\\Local\\Temp\\ipykernel_5868\\3978838614.py:78: FutureWarning: The frame.append method is deprecated and will be removed from pandas in a future version. Use pandas.concat instead.\n",
      "  df = df.append({'Faculty Member': name, 'Ph.D.': phd, 'Masters': masters, 'Bachelors': bachelors}, ignore_index=True)\n",
      "C:\\Users\\profe\\AppData\\Local\\Temp\\ipykernel_5868\\3978838614.py:78: FutureWarning: The frame.append method is deprecated and will be removed from pandas in a future version. Use pandas.concat instead.\n",
      "  df = df.append({'Faculty Member': name, 'Ph.D.': phd, 'Masters': masters, 'Bachelors': bachelors}, ignore_index=True)\n",
      "C:\\Users\\profe\\AppData\\Local\\Temp\\ipykernel_5868\\3978838614.py:78: FutureWarning: The frame.append method is deprecated and will be removed from pandas in a future version. Use pandas.concat instead.\n",
      "  df = df.append({'Faculty Member': name, 'Ph.D.': phd, 'Masters': masters, 'Bachelors': bachelors}, ignore_index=True)\n",
      "C:\\Users\\profe\\AppData\\Local\\Temp\\ipykernel_5868\\3978838614.py:78: FutureWarning: The frame.append method is deprecated and will be removed from pandas in a future version. Use pandas.concat instead.\n",
      "  df = df.append({'Faculty Member': name, 'Ph.D.': phd, 'Masters': masters, 'Bachelors': bachelors}, ignore_index=True)\n",
      "C:\\Users\\profe\\AppData\\Local\\Temp\\ipykernel_5868\\3978838614.py:78: FutureWarning: The frame.append method is deprecated and will be removed from pandas in a future version. Use pandas.concat instead.\n",
      "  df = df.append({'Faculty Member': name, 'Ph.D.': phd, 'Masters': masters, 'Bachelors': bachelors}, ignore_index=True)\n",
      "C:\\Users\\profe\\AppData\\Local\\Temp\\ipykernel_5868\\3978838614.py:78: FutureWarning: The frame.append method is deprecated and will be removed from pandas in a future version. Use pandas.concat instead.\n",
      "  df = df.append({'Faculty Member': name, 'Ph.D.': phd, 'Masters': masters, 'Bachelors': bachelors}, ignore_index=True)\n",
      "C:\\Users\\profe\\AppData\\Local\\Temp\\ipykernel_5868\\3978838614.py:78: FutureWarning: The frame.append method is deprecated and will be removed from pandas in a future version. Use pandas.concat instead.\n",
      "  df = df.append({'Faculty Member': name, 'Ph.D.': phd, 'Masters': masters, 'Bachelors': bachelors}, ignore_index=True)\n",
      "C:\\Users\\profe\\AppData\\Local\\Temp\\ipykernel_5868\\3978838614.py:78: FutureWarning: The frame.append method is deprecated and will be removed from pandas in a future version. Use pandas.concat instead.\n",
      "  df = df.append({'Faculty Member': name, 'Ph.D.': phd, 'Masters': masters, 'Bachelors': bachelors}, ignore_index=True)\n",
      "C:\\Users\\profe\\AppData\\Local\\Temp\\ipykernel_5868\\3978838614.py:78: FutureWarning: The frame.append method is deprecated and will be removed from pandas in a future version. Use pandas.concat instead.\n",
      "  df = df.append({'Faculty Member': name, 'Ph.D.': phd, 'Masters': masters, 'Bachelors': bachelors}, ignore_index=True)\n",
      "C:\\Users\\profe\\AppData\\Local\\Temp\\ipykernel_5868\\3978838614.py:78: FutureWarning: The frame.append method is deprecated and will be removed from pandas in a future version. Use pandas.concat instead.\n",
      "  df = df.append({'Faculty Member': name, 'Ph.D.': phd, 'Masters': masters, 'Bachelors': bachelors}, ignore_index=True)\n",
      "C:\\Users\\profe\\AppData\\Local\\Temp\\ipykernel_5868\\3978838614.py:78: FutureWarning: The frame.append method is deprecated and will be removed from pandas in a future version. Use pandas.concat instead.\n",
      "  df = df.append({'Faculty Member': name, 'Ph.D.': phd, 'Masters': masters, 'Bachelors': bachelors}, ignore_index=True)\n",
      "C:\\Users\\profe\\AppData\\Local\\Temp\\ipykernel_5868\\3978838614.py:78: FutureWarning: The frame.append method is deprecated and will be removed from pandas in a future version. Use pandas.concat instead.\n",
      "  df = df.append({'Faculty Member': name, 'Ph.D.': phd, 'Masters': masters, 'Bachelors': bachelors}, ignore_index=True)\n",
      "C:\\Users\\profe\\AppData\\Local\\Temp\\ipykernel_5868\\3978838614.py:78: FutureWarning: The frame.append method is deprecated and will be removed from pandas in a future version. Use pandas.concat instead.\n",
      "  df = df.append({'Faculty Member': name, 'Ph.D.': phd, 'Masters': masters, 'Bachelors': bachelors}, ignore_index=True)\n",
      "C:\\Users\\profe\\AppData\\Local\\Temp\\ipykernel_5868\\3978838614.py:78: FutureWarning: The frame.append method is deprecated and will be removed from pandas in a future version. Use pandas.concat instead.\n",
      "  df = df.append({'Faculty Member': name, 'Ph.D.': phd, 'Masters': masters, 'Bachelors': bachelors}, ignore_index=True)\n",
      "C:\\Users\\profe\\AppData\\Local\\Temp\\ipykernel_5868\\3978838614.py:78: FutureWarning: The frame.append method is deprecated and will be removed from pandas in a future version. Use pandas.concat instead.\n",
      "  df = df.append({'Faculty Member': name, 'Ph.D.': phd, 'Masters': masters, 'Bachelors': bachelors}, ignore_index=True)\n",
      "C:\\Users\\profe\\AppData\\Local\\Temp\\ipykernel_5868\\3978838614.py:78: FutureWarning: The frame.append method is deprecated and will be removed from pandas in a future version. Use pandas.concat instead.\n",
      "  df = df.append({'Faculty Member': name, 'Ph.D.': phd, 'Masters': masters, 'Bachelors': bachelors}, ignore_index=True)\n",
      "C:\\Users\\profe\\AppData\\Local\\Temp\\ipykernel_5868\\3978838614.py:78: FutureWarning: The frame.append method is deprecated and will be removed from pandas in a future version. Use pandas.concat instead.\n",
      "  df = df.append({'Faculty Member': name, 'Ph.D.': phd, 'Masters': masters, 'Bachelors': bachelors}, ignore_index=True)\n",
      "C:\\Users\\profe\\AppData\\Local\\Temp\\ipykernel_5868\\3978838614.py:78: FutureWarning: The frame.append method is deprecated and will be removed from pandas in a future version. Use pandas.concat instead.\n",
      "  df = df.append({'Faculty Member': name, 'Ph.D.': phd, 'Masters': masters, 'Bachelors': bachelors}, ignore_index=True)\n",
      "C:\\Users\\profe\\AppData\\Local\\Temp\\ipykernel_5868\\3978838614.py:78: FutureWarning: The frame.append method is deprecated and will be removed from pandas in a future version. Use pandas.concat instead.\n",
      "  df = df.append({'Faculty Member': name, 'Ph.D.': phd, 'Masters': masters, 'Bachelors': bachelors}, ignore_index=True)\n",
      "C:\\Users\\profe\\AppData\\Local\\Temp\\ipykernel_5868\\3978838614.py:78: FutureWarning: The frame.append method is deprecated and will be removed from pandas in a future version. Use pandas.concat instead.\n",
      "  df = df.append({'Faculty Member': name, 'Ph.D.': phd, 'Masters': masters, 'Bachelors': bachelors}, ignore_index=True)\n",
      "C:\\Users\\profe\\AppData\\Local\\Temp\\ipykernel_5868\\3978838614.py:78: FutureWarning: The frame.append method is deprecated and will be removed from pandas in a future version. Use pandas.concat instead.\n",
      "  df = df.append({'Faculty Member': name, 'Ph.D.': phd, 'Masters': masters, 'Bachelors': bachelors}, ignore_index=True)\n",
      "C:\\Users\\profe\\AppData\\Local\\Temp\\ipykernel_5868\\3978838614.py:78: FutureWarning: The frame.append method is deprecated and will be removed from pandas in a future version. Use pandas.concat instead.\n",
      "  df = df.append({'Faculty Member': name, 'Ph.D.': phd, 'Masters': masters, 'Bachelors': bachelors}, ignore_index=True)\n",
      "C:\\Users\\profe\\AppData\\Local\\Temp\\ipykernel_5868\\3978838614.py:78: FutureWarning: The frame.append method is deprecated and will be removed from pandas in a future version. Use pandas.concat instead.\n",
      "  df = df.append({'Faculty Member': name, 'Ph.D.': phd, 'Masters': masters, 'Bachelors': bachelors}, ignore_index=True)\n",
      "C:\\Users\\profe\\AppData\\Local\\Temp\\ipykernel_5868\\3978838614.py:78: FutureWarning: The frame.append method is deprecated and will be removed from pandas in a future version. Use pandas.concat instead.\n",
      "  df = df.append({'Faculty Member': name, 'Ph.D.': phd, 'Masters': masters, 'Bachelors': bachelors}, ignore_index=True)\n",
      "C:\\Users\\profe\\AppData\\Local\\Temp\\ipykernel_5868\\3978838614.py:78: FutureWarning: The frame.append method is deprecated and will be removed from pandas in a future version. Use pandas.concat instead.\n",
      "  df = df.append({'Faculty Member': name, 'Ph.D.': phd, 'Masters': masters, 'Bachelors': bachelors}, ignore_index=True)\n",
      "C:\\Users\\profe\\AppData\\Local\\Temp\\ipykernel_5868\\3978838614.py:78: FutureWarning: The frame.append method is deprecated and will be removed from pandas in a future version. Use pandas.concat instead.\n",
      "  df = df.append({'Faculty Member': name, 'Ph.D.': phd, 'Masters': masters, 'Bachelors': bachelors}, ignore_index=True)\n",
      "C:\\Users\\profe\\AppData\\Local\\Temp\\ipykernel_5868\\3978838614.py:78: FutureWarning: The frame.append method is deprecated and will be removed from pandas in a future version. Use pandas.concat instead.\n",
      "  df = df.append({'Faculty Member': name, 'Ph.D.': phd, 'Masters': masters, 'Bachelors': bachelors}, ignore_index=True)\n",
      "C:\\Users\\profe\\AppData\\Local\\Temp\\ipykernel_5868\\3978838614.py:78: FutureWarning: The frame.append method is deprecated and will be removed from pandas in a future version. Use pandas.concat instead.\n",
      "  df = df.append({'Faculty Member': name, 'Ph.D.': phd, 'Masters': masters, 'Bachelors': bachelors}, ignore_index=True)\n",
      "C:\\Users\\profe\\AppData\\Local\\Temp\\ipykernel_5868\\3978838614.py:78: FutureWarning: The frame.append method is deprecated and will be removed from pandas in a future version. Use pandas.concat instead.\n",
      "  df = df.append({'Faculty Member': name, 'Ph.D.': phd, 'Masters': masters, 'Bachelors': bachelors}, ignore_index=True)\n",
      "C:\\Users\\profe\\AppData\\Local\\Temp\\ipykernel_5868\\3978838614.py:78: FutureWarning: The frame.append method is deprecated and will be removed from pandas in a future version. Use pandas.concat instead.\n",
      "  df = df.append({'Faculty Member': name, 'Ph.D.': phd, 'Masters': masters, 'Bachelors': bachelors}, ignore_index=True)\n",
      "C:\\Users\\profe\\AppData\\Local\\Temp\\ipykernel_5868\\3978838614.py:78: FutureWarning: The frame.append method is deprecated and will be removed from pandas in a future version. Use pandas.concat instead.\n",
      "  df = df.append({'Faculty Member': name, 'Ph.D.': phd, 'Masters': masters, 'Bachelors': bachelors}, ignore_index=True)\n",
      "C:\\Users\\profe\\AppData\\Local\\Temp\\ipykernel_5868\\3978838614.py:78: FutureWarning: The frame.append method is deprecated and will be removed from pandas in a future version. Use pandas.concat instead.\n",
      "  df = df.append({'Faculty Member': name, 'Ph.D.': phd, 'Masters': masters, 'Bachelors': bachelors}, ignore_index=True)\n",
      "C:\\Users\\profe\\AppData\\Local\\Temp\\ipykernel_5868\\3978838614.py:78: FutureWarning: The frame.append method is deprecated and will be removed from pandas in a future version. Use pandas.concat instead.\n",
      "  df = df.append({'Faculty Member': name, 'Ph.D.': phd, 'Masters': masters, 'Bachelors': bachelors}, ignore_index=True)\n",
      "C:\\Users\\profe\\AppData\\Local\\Temp\\ipykernel_5868\\3978838614.py:78: FutureWarning: The frame.append method is deprecated and will be removed from pandas in a future version. Use pandas.concat instead.\n",
      "  df = df.append({'Faculty Member': name, 'Ph.D.': phd, 'Masters': masters, 'Bachelors': bachelors}, ignore_index=True)\n",
      "C:\\Users\\profe\\AppData\\Local\\Temp\\ipykernel_5868\\3978838614.py:78: FutureWarning: The frame.append method is deprecated and will be removed from pandas in a future version. Use pandas.concat instead.\n",
      "  df = df.append({'Faculty Member': name, 'Ph.D.': phd, 'Masters': masters, 'Bachelors': bachelors}, ignore_index=True)\n",
      "C:\\Users\\profe\\AppData\\Local\\Temp\\ipykernel_5868\\3978838614.py:78: FutureWarning: The frame.append method is deprecated and will be removed from pandas in a future version. Use pandas.concat instead.\n",
      "  df = df.append({'Faculty Member': name, 'Ph.D.': phd, 'Masters': masters, 'Bachelors': bachelors}, ignore_index=True)\n",
      "C:\\Users\\profe\\AppData\\Local\\Temp\\ipykernel_5868\\3978838614.py:78: FutureWarning: The frame.append method is deprecated and will be removed from pandas in a future version. Use pandas.concat instead.\n",
      "  df = df.append({'Faculty Member': name, 'Ph.D.': phd, 'Masters': masters, 'Bachelors': bachelors}, ignore_index=True)\n",
      "C:\\Users\\profe\\AppData\\Local\\Temp\\ipykernel_5868\\3978838614.py:78: FutureWarning: The frame.append method is deprecated and will be removed from pandas in a future version. Use pandas.concat instead.\n",
      "  df = df.append({'Faculty Member': name, 'Ph.D.': phd, 'Masters': masters, 'Bachelors': bachelors}, ignore_index=True)\n",
      "C:\\Users\\profe\\AppData\\Local\\Temp\\ipykernel_5868\\3978838614.py:78: FutureWarning: The frame.append method is deprecated and will be removed from pandas in a future version. Use pandas.concat instead.\n",
      "  df = df.append({'Faculty Member': name, 'Ph.D.': phd, 'Masters': masters, 'Bachelors': bachelors}, ignore_index=True)\n",
      "C:\\Users\\profe\\AppData\\Local\\Temp\\ipykernel_5868\\3978838614.py:78: FutureWarning: The frame.append method is deprecated and will be removed from pandas in a future version. Use pandas.concat instead.\n",
      "  df = df.append({'Faculty Member': name, 'Ph.D.': phd, 'Masters': masters, 'Bachelors': bachelors}, ignore_index=True)\n",
      "C:\\Users\\profe\\AppData\\Local\\Temp\\ipykernel_5868\\3978838614.py:78: FutureWarning: The frame.append method is deprecated and will be removed from pandas in a future version. Use pandas.concat instead.\n",
      "  df = df.append({'Faculty Member': name, 'Ph.D.': phd, 'Masters': masters, 'Bachelors': bachelors}, ignore_index=True)\n",
      "C:\\Users\\profe\\AppData\\Local\\Temp\\ipykernel_5868\\3978838614.py:78: FutureWarning: The frame.append method is deprecated and will be removed from pandas in a future version. Use pandas.concat instead.\n",
      "  df = df.append({'Faculty Member': name, 'Ph.D.': phd, 'Masters': masters, 'Bachelors': bachelors}, ignore_index=True)\n",
      "C:\\Users\\profe\\AppData\\Local\\Temp\\ipykernel_5868\\3978838614.py:78: FutureWarning: The frame.append method is deprecated and will be removed from pandas in a future version. Use pandas.concat instead.\n",
      "  df = df.append({'Faculty Member': name, 'Ph.D.': phd, 'Masters': masters, 'Bachelors': bachelors}, ignore_index=True)\n",
      "C:\\Users\\profe\\AppData\\Local\\Temp\\ipykernel_5868\\3978838614.py:78: FutureWarning: The frame.append method is deprecated and will be removed from pandas in a future version. Use pandas.concat instead.\n",
      "  df = df.append({'Faculty Member': name, 'Ph.D.': phd, 'Masters': masters, 'Bachelors': bachelors}, ignore_index=True)\n",
      "C:\\Users\\profe\\AppData\\Local\\Temp\\ipykernel_5868\\3978838614.py:78: FutureWarning: The frame.append method is deprecated and will be removed from pandas in a future version. Use pandas.concat instead.\n",
      "  df = df.append({'Faculty Member': name, 'Ph.D.': phd, 'Masters': masters, 'Bachelors': bachelors}, ignore_index=True)\n",
      "C:\\Users\\profe\\AppData\\Local\\Temp\\ipykernel_5868\\3978838614.py:78: FutureWarning: The frame.append method is deprecated and will be removed from pandas in a future version. Use pandas.concat instead.\n",
      "  df = df.append({'Faculty Member': name, 'Ph.D.': phd, 'Masters': masters, 'Bachelors': bachelors}, ignore_index=True)\n",
      "C:\\Users\\profe\\AppData\\Local\\Temp\\ipykernel_5868\\3978838614.py:78: FutureWarning: The frame.append method is deprecated and will be removed from pandas in a future version. Use pandas.concat instead.\n",
      "  df = df.append({'Faculty Member': name, 'Ph.D.': phd, 'Masters': masters, 'Bachelors': bachelors}, ignore_index=True)\n",
      "C:\\Users\\profe\\AppData\\Local\\Temp\\ipykernel_5868\\3978838614.py:78: FutureWarning: The frame.append method is deprecated and will be removed from pandas in a future version. Use pandas.concat instead.\n",
      "  df = df.append({'Faculty Member': name, 'Ph.D.': phd, 'Masters': masters, 'Bachelors': bachelors}, ignore_index=True)\n",
      "C:\\Users\\profe\\AppData\\Local\\Temp\\ipykernel_5868\\3978838614.py:78: FutureWarning: The frame.append method is deprecated and will be removed from pandas in a future version. Use pandas.concat instead.\n",
      "  df = df.append({'Faculty Member': name, 'Ph.D.': phd, 'Masters': masters, 'Bachelors': bachelors}, ignore_index=True)\n",
      "C:\\Users\\profe\\AppData\\Local\\Temp\\ipykernel_5868\\3978838614.py:78: FutureWarning: The frame.append method is deprecated and will be removed from pandas in a future version. Use pandas.concat instead.\n",
      "  df = df.append({'Faculty Member': name, 'Ph.D.': phd, 'Masters': masters, 'Bachelors': bachelors}, ignore_index=True)\n",
      "C:\\Users\\profe\\AppData\\Local\\Temp\\ipykernel_5868\\3978838614.py:78: FutureWarning: The frame.append method is deprecated and will be removed from pandas in a future version. Use pandas.concat instead.\n",
      "  df = df.append({'Faculty Member': name, 'Ph.D.': phd, 'Masters': masters, 'Bachelors': bachelors}, ignore_index=True)\n",
      "C:\\Users\\profe\\AppData\\Local\\Temp\\ipykernel_5868\\3978838614.py:78: FutureWarning: The frame.append method is deprecated and will be removed from pandas in a future version. Use pandas.concat instead.\n",
      "  df = df.append({'Faculty Member': name, 'Ph.D.': phd, 'Masters': masters, 'Bachelors': bachelors}, ignore_index=True)\n",
      "C:\\Users\\profe\\AppData\\Local\\Temp\\ipykernel_5868\\3978838614.py:78: FutureWarning: The frame.append method is deprecated and will be removed from pandas in a future version. Use pandas.concat instead.\n",
      "  df = df.append({'Faculty Member': name, 'Ph.D.': phd, 'Masters': masters, 'Bachelors': bachelors}, ignore_index=True)\n",
      "C:\\Users\\profe\\AppData\\Local\\Temp\\ipykernel_5868\\3978838614.py:78: FutureWarning: The frame.append method is deprecated and will be removed from pandas in a future version. Use pandas.concat instead.\n",
      "  df = df.append({'Faculty Member': name, 'Ph.D.': phd, 'Masters': masters, 'Bachelors': bachelors}, ignore_index=True)\n",
      "C:\\Users\\profe\\AppData\\Local\\Temp\\ipykernel_5868\\3978838614.py:78: FutureWarning: The frame.append method is deprecated and will be removed from pandas in a future version. Use pandas.concat instead.\n",
      "  df = df.append({'Faculty Member': name, 'Ph.D.': phd, 'Masters': masters, 'Bachelors': bachelors}, ignore_index=True)\n",
      "C:\\Users\\profe\\AppData\\Local\\Temp\\ipykernel_5868\\3978838614.py:78: FutureWarning: The frame.append method is deprecated and will be removed from pandas in a future version. Use pandas.concat instead.\n",
      "  df = df.append({'Faculty Member': name, 'Ph.D.': phd, 'Masters': masters, 'Bachelors': bachelors}, ignore_index=True)\n",
      "C:\\Users\\profe\\AppData\\Local\\Temp\\ipykernel_5868\\3978838614.py:78: FutureWarning: The frame.append method is deprecated and will be removed from pandas in a future version. Use pandas.concat instead.\n",
      "  df = df.append({'Faculty Member': name, 'Ph.D.': phd, 'Masters': masters, 'Bachelors': bachelors}, ignore_index=True)\n",
      "C:\\Users\\profe\\AppData\\Local\\Temp\\ipykernel_5868\\3978838614.py:78: FutureWarning: The frame.append method is deprecated and will be removed from pandas in a future version. Use pandas.concat instead.\n",
      "  df = df.append({'Faculty Member': name, 'Ph.D.': phd, 'Masters': masters, 'Bachelors': bachelors}, ignore_index=True)\n",
      "C:\\Users\\profe\\AppData\\Local\\Temp\\ipykernel_5868\\3978838614.py:78: FutureWarning: The frame.append method is deprecated and will be removed from pandas in a future version. Use pandas.concat instead.\n",
      "  df = df.append({'Faculty Member': name, 'Ph.D.': phd, 'Masters': masters, 'Bachelors': bachelors}, ignore_index=True)\n",
      "C:\\Users\\profe\\AppData\\Local\\Temp\\ipykernel_5868\\3978838614.py:78: FutureWarning: The frame.append method is deprecated and will be removed from pandas in a future version. Use pandas.concat instead.\n",
      "  df = df.append({'Faculty Member': name, 'Ph.D.': phd, 'Masters': masters, 'Bachelors': bachelors}, ignore_index=True)\n",
      "C:\\Users\\profe\\AppData\\Local\\Temp\\ipykernel_5868\\3978838614.py:78: FutureWarning: The frame.append method is deprecated and will be removed from pandas in a future version. Use pandas.concat instead.\n",
      "  df = df.append({'Faculty Member': name, 'Ph.D.': phd, 'Masters': masters, 'Bachelors': bachelors}, ignore_index=True)\n",
      "C:\\Users\\profe\\AppData\\Local\\Temp\\ipykernel_5868\\3978838614.py:78: FutureWarning: The frame.append method is deprecated and will be removed from pandas in a future version. Use pandas.concat instead.\n",
      "  df = df.append({'Faculty Member': name, 'Ph.D.': phd, 'Masters': masters, 'Bachelors': bachelors}, ignore_index=True)\n",
      "C:\\Users\\profe\\AppData\\Local\\Temp\\ipykernel_5868\\3978838614.py:78: FutureWarning: The frame.append method is deprecated and will be removed from pandas in a future version. Use pandas.concat instead.\n",
      "  df = df.append({'Faculty Member': name, 'Ph.D.': phd, 'Masters': masters, 'Bachelors': bachelors}, ignore_index=True)\n",
      "C:\\Users\\profe\\AppData\\Local\\Temp\\ipykernel_5868\\3978838614.py:78: FutureWarning: The frame.append method is deprecated and will be removed from pandas in a future version. Use pandas.concat instead.\n",
      "  df = df.append({'Faculty Member': name, 'Ph.D.': phd, 'Masters': masters, 'Bachelors': bachelors}, ignore_index=True)\n",
      "C:\\Users\\profe\\AppData\\Local\\Temp\\ipykernel_5868\\3978838614.py:78: FutureWarning: The frame.append method is deprecated and will be removed from pandas in a future version. Use pandas.concat instead.\n",
      "  df = df.append({'Faculty Member': name, 'Ph.D.': phd, 'Masters': masters, 'Bachelors': bachelors}, ignore_index=True)\n",
      "C:\\Users\\profe\\AppData\\Local\\Temp\\ipykernel_5868\\3978838614.py:78: FutureWarning: The frame.append method is deprecated and will be removed from pandas in a future version. Use pandas.concat instead.\n",
      "  df = df.append({'Faculty Member': name, 'Ph.D.': phd, 'Masters': masters, 'Bachelors': bachelors}, ignore_index=True)\n",
      "C:\\Users\\profe\\AppData\\Local\\Temp\\ipykernel_5868\\3978838614.py:78: FutureWarning: The frame.append method is deprecated and will be removed from pandas in a future version. Use pandas.concat instead.\n",
      "  df = df.append({'Faculty Member': name, 'Ph.D.': phd, 'Masters': masters, 'Bachelors': bachelors}, ignore_index=True)\n",
      "C:\\Users\\profe\\AppData\\Local\\Temp\\ipykernel_5868\\3978838614.py:78: FutureWarning: The frame.append method is deprecated and will be removed from pandas in a future version. Use pandas.concat instead.\n",
      "  df = df.append({'Faculty Member': name, 'Ph.D.': phd, 'Masters': masters, 'Bachelors': bachelors}, ignore_index=True)\n",
      "C:\\Users\\profe\\AppData\\Local\\Temp\\ipykernel_5868\\3978838614.py:78: FutureWarning: The frame.append method is deprecated and will be removed from pandas in a future version. Use pandas.concat instead.\n",
      "  df = df.append({'Faculty Member': name, 'Ph.D.': phd, 'Masters': masters, 'Bachelors': bachelors}, ignore_index=True)\n",
      "C:\\Users\\profe\\AppData\\Local\\Temp\\ipykernel_5868\\3978838614.py:78: FutureWarning: The frame.append method is deprecated and will be removed from pandas in a future version. Use pandas.concat instead.\n",
      "  df = df.append({'Faculty Member': name, 'Ph.D.': phd, 'Masters': masters, 'Bachelors': bachelors}, ignore_index=True)\n",
      "C:\\Users\\profe\\AppData\\Local\\Temp\\ipykernel_5868\\3978838614.py:78: FutureWarning: The frame.append method is deprecated and will be removed from pandas in a future version. Use pandas.concat instead.\n",
      "  df = df.append({'Faculty Member': name, 'Ph.D.': phd, 'Masters': masters, 'Bachelors': bachelors}, ignore_index=True)\n",
      "C:\\Users\\profe\\AppData\\Local\\Temp\\ipykernel_5868\\3978838614.py:78: FutureWarning: The frame.append method is deprecated and will be removed from pandas in a future version. Use pandas.concat instead.\n",
      "  df = df.append({'Faculty Member': name, 'Ph.D.': phd, 'Masters': masters, 'Bachelors': bachelors}, ignore_index=True)\n",
      "C:\\Users\\profe\\AppData\\Local\\Temp\\ipykernel_5868\\3978838614.py:78: FutureWarning: The frame.append method is deprecated and will be removed from pandas in a future version. Use pandas.concat instead.\n",
      "  df = df.append({'Faculty Member': name, 'Ph.D.': phd, 'Masters': masters, 'Bachelors': bachelors}, ignore_index=True)\n",
      "C:\\Users\\profe\\AppData\\Local\\Temp\\ipykernel_5868\\3978838614.py:78: FutureWarning: The frame.append method is deprecated and will be removed from pandas in a future version. Use pandas.concat instead.\n",
      "  df = df.append({'Faculty Member': name, 'Ph.D.': phd, 'Masters': masters, 'Bachelors': bachelors}, ignore_index=True)\n",
      "C:\\Users\\profe\\AppData\\Local\\Temp\\ipykernel_5868\\3978838614.py:78: FutureWarning: The frame.append method is deprecated and will be removed from pandas in a future version. Use pandas.concat instead.\n",
      "  df = df.append({'Faculty Member': name, 'Ph.D.': phd, 'Masters': masters, 'Bachelors': bachelors}, ignore_index=True)\n",
      "C:\\Users\\profe\\AppData\\Local\\Temp\\ipykernel_5868\\3978838614.py:78: FutureWarning: The frame.append method is deprecated and will be removed from pandas in a future version. Use pandas.concat instead.\n",
      "  df = df.append({'Faculty Member': name, 'Ph.D.': phd, 'Masters': masters, 'Bachelors': bachelors}, ignore_index=True)\n",
      "C:\\Users\\profe\\AppData\\Local\\Temp\\ipykernel_5868\\3978838614.py:78: FutureWarning: The frame.append method is deprecated and will be removed from pandas in a future version. Use pandas.concat instead.\n",
      "  df = df.append({'Faculty Member': name, 'Ph.D.': phd, 'Masters': masters, 'Bachelors': bachelors}, ignore_index=True)\n",
      "C:\\Users\\profe\\AppData\\Local\\Temp\\ipykernel_5868\\3978838614.py:78: FutureWarning: The frame.append method is deprecated and will be removed from pandas in a future version. Use pandas.concat instead.\n",
      "  df = df.append({'Faculty Member': name, 'Ph.D.': phd, 'Masters': masters, 'Bachelors': bachelors}, ignore_index=True)\n",
      "C:\\Users\\profe\\AppData\\Local\\Temp\\ipykernel_5868\\3978838614.py:78: FutureWarning: The frame.append method is deprecated and will be removed from pandas in a future version. Use pandas.concat instead.\n",
      "  df = df.append({'Faculty Member': name, 'Ph.D.': phd, 'Masters': masters, 'Bachelors': bachelors}, ignore_index=True)\n",
      "C:\\Users\\profe\\AppData\\Local\\Temp\\ipykernel_5868\\3978838614.py:78: FutureWarning: The frame.append method is deprecated and will be removed from pandas in a future version. Use pandas.concat instead.\n",
      "  df = df.append({'Faculty Member': name, 'Ph.D.': phd, 'Masters': masters, 'Bachelors': bachelors}, ignore_index=True)\n",
      "C:\\Users\\profe\\AppData\\Local\\Temp\\ipykernel_5868\\3978838614.py:78: FutureWarning: The frame.append method is deprecated and will be removed from pandas in a future version. Use pandas.concat instead.\n",
      "  df = df.append({'Faculty Member': name, 'Ph.D.': phd, 'Masters': masters, 'Bachelors': bachelors}, ignore_index=True)\n",
      "C:\\Users\\profe\\AppData\\Local\\Temp\\ipykernel_5868\\3978838614.py:78: FutureWarning: The frame.append method is deprecated and will be removed from pandas in a future version. Use pandas.concat instead.\n",
      "  df = df.append({'Faculty Member': name, 'Ph.D.': phd, 'Masters': masters, 'Bachelors': bachelors}, ignore_index=True)\n",
      "C:\\Users\\profe\\AppData\\Local\\Temp\\ipykernel_5868\\3978838614.py:78: FutureWarning: The frame.append method is deprecated and will be removed from pandas in a future version. Use pandas.concat instead.\n",
      "  df = df.append({'Faculty Member': name, 'Ph.D.': phd, 'Masters': masters, 'Bachelors': bachelors}, ignore_index=True)\n",
      "C:\\Users\\profe\\AppData\\Local\\Temp\\ipykernel_5868\\3978838614.py:78: FutureWarning: The frame.append method is deprecated and will be removed from pandas in a future version. Use pandas.concat instead.\n",
      "  df = df.append({'Faculty Member': name, 'Ph.D.': phd, 'Masters': masters, 'Bachelors': bachelors}, ignore_index=True)\n",
      "C:\\Users\\profe\\AppData\\Local\\Temp\\ipykernel_5868\\3978838614.py:78: FutureWarning: The frame.append method is deprecated and will be removed from pandas in a future version. Use pandas.concat instead.\n",
      "  df = df.append({'Faculty Member': name, 'Ph.D.': phd, 'Masters': masters, 'Bachelors': bachelors}, ignore_index=True)\n",
      "C:\\Users\\profe\\AppData\\Local\\Temp\\ipykernel_5868\\3978838614.py:78: FutureWarning: The frame.append method is deprecated and will be removed from pandas in a future version. Use pandas.concat instead.\n",
      "  df = df.append({'Faculty Member': name, 'Ph.D.': phd, 'Masters': masters, 'Bachelors': bachelors}, ignore_index=True)\n",
      "C:\\Users\\profe\\AppData\\Local\\Temp\\ipykernel_5868\\3978838614.py:78: FutureWarning: The frame.append method is deprecated and will be removed from pandas in a future version. Use pandas.concat instead.\n",
      "  df = df.append({'Faculty Member': name, 'Ph.D.': phd, 'Masters': masters, 'Bachelors': bachelors}, ignore_index=True)\n",
      "C:\\Users\\profe\\AppData\\Local\\Temp\\ipykernel_5868\\3978838614.py:78: FutureWarning: The frame.append method is deprecated and will be removed from pandas in a future version. Use pandas.concat instead.\n",
      "  df = df.append({'Faculty Member': name, 'Ph.D.': phd, 'Masters': masters, 'Bachelors': bachelors}, ignore_index=True)\n",
      "C:\\Users\\profe\\AppData\\Local\\Temp\\ipykernel_5868\\3978838614.py:78: FutureWarning: The frame.append method is deprecated and will be removed from pandas in a future version. Use pandas.concat instead.\n",
      "  df = df.append({'Faculty Member': name, 'Ph.D.': phd, 'Masters': masters, 'Bachelors': bachelors}, ignore_index=True)\n",
      "C:\\Users\\profe\\AppData\\Local\\Temp\\ipykernel_5868\\3978838614.py:78: FutureWarning: The frame.append method is deprecated and will be removed from pandas in a future version. Use pandas.concat instead.\n",
      "  df = df.append({'Faculty Member': name, 'Ph.D.': phd, 'Masters': masters, 'Bachelors': bachelors}, ignore_index=True)\n",
      "C:\\Users\\profe\\AppData\\Local\\Temp\\ipykernel_5868\\3978838614.py:78: FutureWarning: The frame.append method is deprecated and will be removed from pandas in a future version. Use pandas.concat instead.\n",
      "  df = df.append({'Faculty Member': name, 'Ph.D.': phd, 'Masters': masters, 'Bachelors': bachelors}, ignore_index=True)\n",
      "C:\\Users\\profe\\AppData\\Local\\Temp\\ipykernel_5868\\3978838614.py:78: FutureWarning: The frame.append method is deprecated and will be removed from pandas in a future version. Use pandas.concat instead.\n",
      "  df = df.append({'Faculty Member': name, 'Ph.D.': phd, 'Masters': masters, 'Bachelors': bachelors}, ignore_index=True)\n",
      "C:\\Users\\profe\\AppData\\Local\\Temp\\ipykernel_5868\\3978838614.py:78: FutureWarning: The frame.append method is deprecated and will be removed from pandas in a future version. Use pandas.concat instead.\n",
      "  df = df.append({'Faculty Member': name, 'Ph.D.': phd, 'Masters': masters, 'Bachelors': bachelors}, ignore_index=True)\n",
      "C:\\Users\\profe\\AppData\\Local\\Temp\\ipykernel_5868\\3978838614.py:78: FutureWarning: The frame.append method is deprecated and will be removed from pandas in a future version. Use pandas.concat instead.\n",
      "  df = df.append({'Faculty Member': name, 'Ph.D.': phd, 'Masters': masters, 'Bachelors': bachelors}, ignore_index=True)\n",
      "C:\\Users\\profe\\AppData\\Local\\Temp\\ipykernel_5868\\3978838614.py:78: FutureWarning: The frame.append method is deprecated and will be removed from pandas in a future version. Use pandas.concat instead.\n",
      "  df = df.append({'Faculty Member': name, 'Ph.D.': phd, 'Masters': masters, 'Bachelors': bachelors}, ignore_index=True)\n",
      "C:\\Users\\profe\\AppData\\Local\\Temp\\ipykernel_5868\\3978838614.py:78: FutureWarning: The frame.append method is deprecated and will be removed from pandas in a future version. Use pandas.concat instead.\n",
      "  df = df.append({'Faculty Member': name, 'Ph.D.': phd, 'Masters': masters, 'Bachelors': bachelors}, ignore_index=True)\n",
      "C:\\Users\\profe\\AppData\\Local\\Temp\\ipykernel_5868\\3978838614.py:78: FutureWarning: The frame.append method is deprecated and will be removed from pandas in a future version. Use pandas.concat instead.\n",
      "  df = df.append({'Faculty Member': name, 'Ph.D.': phd, 'Masters': masters, 'Bachelors': bachelors}, ignore_index=True)\n",
      "C:\\Users\\profe\\AppData\\Local\\Temp\\ipykernel_5868\\3978838614.py:78: FutureWarning: The frame.append method is deprecated and will be removed from pandas in a future version. Use pandas.concat instead.\n",
      "  df = df.append({'Faculty Member': name, 'Ph.D.': phd, 'Masters': masters, 'Bachelors': bachelors}, ignore_index=True)\n",
      "C:\\Users\\profe\\AppData\\Local\\Temp\\ipykernel_5868\\3978838614.py:78: FutureWarning: The frame.append method is deprecated and will be removed from pandas in a future version. Use pandas.concat instead.\n",
      "  df = df.append({'Faculty Member': name, 'Ph.D.': phd, 'Masters': masters, 'Bachelors': bachelors}, ignore_index=True)\n",
      "C:\\Users\\profe\\AppData\\Local\\Temp\\ipykernel_5868\\3978838614.py:78: FutureWarning: The frame.append method is deprecated and will be removed from pandas in a future version. Use pandas.concat instead.\n",
      "  df = df.append({'Faculty Member': name, 'Ph.D.': phd, 'Masters': masters, 'Bachelors': bachelors}, ignore_index=True)\n",
      "C:\\Users\\profe\\AppData\\Local\\Temp\\ipykernel_5868\\3978838614.py:78: FutureWarning: The frame.append method is deprecated and will be removed from pandas in a future version. Use pandas.concat instead.\n",
      "  df = df.append({'Faculty Member': name, 'Ph.D.': phd, 'Masters': masters, 'Bachelors': bachelors}, ignore_index=True)\n",
      "C:\\Users\\profe\\AppData\\Local\\Temp\\ipykernel_5868\\3978838614.py:78: FutureWarning: The frame.append method is deprecated and will be removed from pandas in a future version. Use pandas.concat instead.\n",
      "  df = df.append({'Faculty Member': name, 'Ph.D.': phd, 'Masters': masters, 'Bachelors': bachelors}, ignore_index=True)\n",
      "C:\\Users\\profe\\AppData\\Local\\Temp\\ipykernel_5868\\3978838614.py:78: FutureWarning: The frame.append method is deprecated and will be removed from pandas in a future version. Use pandas.concat instead.\n",
      "  df = df.append({'Faculty Member': name, 'Ph.D.': phd, 'Masters': masters, 'Bachelors': bachelors}, ignore_index=True)\n",
      "C:\\Users\\profe\\AppData\\Local\\Temp\\ipykernel_5868\\3978838614.py:78: FutureWarning: The frame.append method is deprecated and will be removed from pandas in a future version. Use pandas.concat instead.\n",
      "  df = df.append({'Faculty Member': name, 'Ph.D.': phd, 'Masters': masters, 'Bachelors': bachelors}, ignore_index=True)\n",
      "C:\\Users\\profe\\AppData\\Local\\Temp\\ipykernel_5868\\3978838614.py:78: FutureWarning: The frame.append method is deprecated and will be removed from pandas in a future version. Use pandas.concat instead.\n",
      "  df = df.append({'Faculty Member': name, 'Ph.D.': phd, 'Masters': masters, 'Bachelors': bachelors}, ignore_index=True)\n",
      "C:\\Users\\profe\\AppData\\Local\\Temp\\ipykernel_5868\\3978838614.py:78: FutureWarning: The frame.append method is deprecated and will be removed from pandas in a future version. Use pandas.concat instead.\n",
      "  df = df.append({'Faculty Member': name, 'Ph.D.': phd, 'Masters': masters, 'Bachelors': bachelors}, ignore_index=True)\n",
      "C:\\Users\\profe\\AppData\\Local\\Temp\\ipykernel_5868\\3978838614.py:78: FutureWarning: The frame.append method is deprecated and will be removed from pandas in a future version. Use pandas.concat instead.\n",
      "  df = df.append({'Faculty Member': name, 'Ph.D.': phd, 'Masters': masters, 'Bachelors': bachelors}, ignore_index=True)\n",
      "C:\\Users\\profe\\AppData\\Local\\Temp\\ipykernel_5868\\3978838614.py:78: FutureWarning: The frame.append method is deprecated and will be removed from pandas in a future version. Use pandas.concat instead.\n",
      "  df = df.append({'Faculty Member': name, 'Ph.D.': phd, 'Masters': masters, 'Bachelors': bachelors}, ignore_index=True)\n",
      "C:\\Users\\profe\\AppData\\Local\\Temp\\ipykernel_5868\\3978838614.py:78: FutureWarning: The frame.append method is deprecated and will be removed from pandas in a future version. Use pandas.concat instead.\n",
      "  df = df.append({'Faculty Member': name, 'Ph.D.': phd, 'Masters': masters, 'Bachelors': bachelors}, ignore_index=True)\n",
      "C:\\Users\\profe\\AppData\\Local\\Temp\\ipykernel_5868\\3978838614.py:78: FutureWarning: The frame.append method is deprecated and will be removed from pandas in a future version. Use pandas.concat instead.\n",
      "  df = df.append({'Faculty Member': name, 'Ph.D.': phd, 'Masters': masters, 'Bachelors': bachelors}, ignore_index=True)\n",
      "C:\\Users\\profe\\AppData\\Local\\Temp\\ipykernel_5868\\3978838614.py:78: FutureWarning: The frame.append method is deprecated and will be removed from pandas in a future version. Use pandas.concat instead.\n",
      "  df = df.append({'Faculty Member': name, 'Ph.D.': phd, 'Masters': masters, 'Bachelors': bachelors}, ignore_index=True)\n",
      "C:\\Users\\profe\\AppData\\Local\\Temp\\ipykernel_5868\\3978838614.py:78: FutureWarning: The frame.append method is deprecated and will be removed from pandas in a future version. Use pandas.concat instead.\n",
      "  df = df.append({'Faculty Member': name, 'Ph.D.': phd, 'Masters': masters, 'Bachelors': bachelors}, ignore_index=True)\n",
      "C:\\Users\\profe\\AppData\\Local\\Temp\\ipykernel_5868\\3978838614.py:78: FutureWarning: The frame.append method is deprecated and will be removed from pandas in a future version. Use pandas.concat instead.\n",
      "  df = df.append({'Faculty Member': name, 'Ph.D.': phd, 'Masters': masters, 'Bachelors': bachelors}, ignore_index=True)\n",
      "C:\\Users\\profe\\AppData\\Local\\Temp\\ipykernel_5868\\3978838614.py:78: FutureWarning: The frame.append method is deprecated and will be removed from pandas in a future version. Use pandas.concat instead.\n",
      "  df = df.append({'Faculty Member': name, 'Ph.D.': phd, 'Masters': masters, 'Bachelors': bachelors}, ignore_index=True)\n",
      "C:\\Users\\profe\\AppData\\Local\\Temp\\ipykernel_5868\\3978838614.py:78: FutureWarning: The frame.append method is deprecated and will be removed from pandas in a future version. Use pandas.concat instead.\n",
      "  df = df.append({'Faculty Member': name, 'Ph.D.': phd, 'Masters': masters, 'Bachelors': bachelors}, ignore_index=True)\n",
      "C:\\Users\\profe\\AppData\\Local\\Temp\\ipykernel_5868\\3978838614.py:78: FutureWarning: The frame.append method is deprecated and will be removed from pandas in a future version. Use pandas.concat instead.\n",
      "  df = df.append({'Faculty Member': name, 'Ph.D.': phd, 'Masters': masters, 'Bachelors': bachelors}, ignore_index=True)\n",
      "C:\\Users\\profe\\AppData\\Local\\Temp\\ipykernel_5868\\3978838614.py:78: FutureWarning: The frame.append method is deprecated and will be removed from pandas in a future version. Use pandas.concat instead.\n",
      "  df = df.append({'Faculty Member': name, 'Ph.D.': phd, 'Masters': masters, 'Bachelors': bachelors}, ignore_index=True)\n",
      "C:\\Users\\profe\\AppData\\Local\\Temp\\ipykernel_5868\\3978838614.py:78: FutureWarning: The frame.append method is deprecated and will be removed from pandas in a future version. Use pandas.concat instead.\n",
      "  df = df.append({'Faculty Member': name, 'Ph.D.': phd, 'Masters': masters, 'Bachelors': bachelors}, ignore_index=True)\n",
      "C:\\Users\\profe\\AppData\\Local\\Temp\\ipykernel_5868\\3978838614.py:78: FutureWarning: The frame.append method is deprecated and will be removed from pandas in a future version. Use pandas.concat instead.\n",
      "  df = df.append({'Faculty Member': name, 'Ph.D.': phd, 'Masters': masters, 'Bachelors': bachelors}, ignore_index=True)\n",
      "C:\\Users\\profe\\AppData\\Local\\Temp\\ipykernel_5868\\3978838614.py:78: FutureWarning: The frame.append method is deprecated and will be removed from pandas in a future version. Use pandas.concat instead.\n",
      "  df = df.append({'Faculty Member': name, 'Ph.D.': phd, 'Masters': masters, 'Bachelors': bachelors}, ignore_index=True)\n",
      "C:\\Users\\profe\\AppData\\Local\\Temp\\ipykernel_5868\\3978838614.py:78: FutureWarning: The frame.append method is deprecated and will be removed from pandas in a future version. Use pandas.concat instead.\n",
      "  df = df.append({'Faculty Member': name, 'Ph.D.': phd, 'Masters': masters, 'Bachelors': bachelors}, ignore_index=True)\n",
      "C:\\Users\\profe\\AppData\\Local\\Temp\\ipykernel_5868\\3978838614.py:78: FutureWarning: The frame.append method is deprecated and will be removed from pandas in a future version. Use pandas.concat instead.\n",
      "  df = df.append({'Faculty Member': name, 'Ph.D.': phd, 'Masters': masters, 'Bachelors': bachelors}, ignore_index=True)\n",
      "C:\\Users\\profe\\AppData\\Local\\Temp\\ipykernel_5868\\3978838614.py:78: FutureWarning: The frame.append method is deprecated and will be removed from pandas in a future version. Use pandas.concat instead.\n",
      "  df = df.append({'Faculty Member': name, 'Ph.D.': phd, 'Masters': masters, 'Bachelors': bachelors}, ignore_index=True)\n",
      "C:\\Users\\profe\\AppData\\Local\\Temp\\ipykernel_5868\\3978838614.py:78: FutureWarning: The frame.append method is deprecated and will be removed from pandas in a future version. Use pandas.concat instead.\n",
      "  df = df.append({'Faculty Member': name, 'Ph.D.': phd, 'Masters': masters, 'Bachelors': bachelors}, ignore_index=True)\n",
      "C:\\Users\\profe\\AppData\\Local\\Temp\\ipykernel_5868\\3978838614.py:78: FutureWarning: The frame.append method is deprecated and will be removed from pandas in a future version. Use pandas.concat instead.\n",
      "  df = df.append({'Faculty Member': name, 'Ph.D.': phd, 'Masters': masters, 'Bachelors': bachelors}, ignore_index=True)\n",
      "C:\\Users\\profe\\AppData\\Local\\Temp\\ipykernel_5868\\3978838614.py:78: FutureWarning: The frame.append method is deprecated and will be removed from pandas in a future version. Use pandas.concat instead.\n",
      "  df = df.append({'Faculty Member': name, 'Ph.D.': phd, 'Masters': masters, 'Bachelors': bachelors}, ignore_index=True)\n",
      "C:\\Users\\profe\\AppData\\Local\\Temp\\ipykernel_5868\\3978838614.py:78: FutureWarning: The frame.append method is deprecated and will be removed from pandas in a future version. Use pandas.concat instead.\n",
      "  df = df.append({'Faculty Member': name, 'Ph.D.': phd, 'Masters': masters, 'Bachelors': bachelors}, ignore_index=True)\n",
      "C:\\Users\\profe\\AppData\\Local\\Temp\\ipykernel_5868\\3978838614.py:78: FutureWarning: The frame.append method is deprecated and will be removed from pandas in a future version. Use pandas.concat instead.\n",
      "  df = df.append({'Faculty Member': name, 'Ph.D.': phd, 'Masters': masters, 'Bachelors': bachelors}, ignore_index=True)\n",
      "C:\\Users\\profe\\AppData\\Local\\Temp\\ipykernel_5868\\3978838614.py:78: FutureWarning: The frame.append method is deprecated and will be removed from pandas in a future version. Use pandas.concat instead.\n",
      "  df = df.append({'Faculty Member': name, 'Ph.D.': phd, 'Masters': masters, 'Bachelors': bachelors}, ignore_index=True)\n",
      "C:\\Users\\profe\\AppData\\Local\\Temp\\ipykernel_5868\\3978838614.py:78: FutureWarning: The frame.append method is deprecated and will be removed from pandas in a future version. Use pandas.concat instead.\n",
      "  df = df.append({'Faculty Member': name, 'Ph.D.': phd, 'Masters': masters, 'Bachelors': bachelors}, ignore_index=True)\n",
      "C:\\Users\\profe\\AppData\\Local\\Temp\\ipykernel_5868\\3978838614.py:78: FutureWarning: The frame.append method is deprecated and will be removed from pandas in a future version. Use pandas.concat instead.\n",
      "  df = df.append({'Faculty Member': name, 'Ph.D.': phd, 'Masters': masters, 'Bachelors': bachelors}, ignore_index=True)\n",
      "C:\\Users\\profe\\AppData\\Local\\Temp\\ipykernel_5868\\3978838614.py:78: FutureWarning: The frame.append method is deprecated and will be removed from pandas in a future version. Use pandas.concat instead.\n",
      "  df = df.append({'Faculty Member': name, 'Ph.D.': phd, 'Masters': masters, 'Bachelors': bachelors}, ignore_index=True)\n",
      "C:\\Users\\profe\\AppData\\Local\\Temp\\ipykernel_5868\\3978838614.py:78: FutureWarning: The frame.append method is deprecated and will be removed from pandas in a future version. Use pandas.concat instead.\n",
      "  df = df.append({'Faculty Member': name, 'Ph.D.': phd, 'Masters': masters, 'Bachelors': bachelors}, ignore_index=True)\n",
      "C:\\Users\\profe\\AppData\\Local\\Temp\\ipykernel_5868\\3978838614.py:78: FutureWarning: The frame.append method is deprecated and will be removed from pandas in a future version. Use pandas.concat instead.\n",
      "  df = df.append({'Faculty Member': name, 'Ph.D.': phd, 'Masters': masters, 'Bachelors': bachelors}, ignore_index=True)\n",
      "C:\\Users\\profe\\AppData\\Local\\Temp\\ipykernel_5868\\3978838614.py:78: FutureWarning: The frame.append method is deprecated and will be removed from pandas in a future version. Use pandas.concat instead.\n",
      "  df = df.append({'Faculty Member': name, 'Ph.D.': phd, 'Masters': masters, 'Bachelors': bachelors}, ignore_index=True)\n",
      "C:\\Users\\profe\\AppData\\Local\\Temp\\ipykernel_5868\\3978838614.py:78: FutureWarning: The frame.append method is deprecated and will be removed from pandas in a future version. Use pandas.concat instead.\n",
      "  df = df.append({'Faculty Member': name, 'Ph.D.': phd, 'Masters': masters, 'Bachelors': bachelors}, ignore_index=True)\n",
      "C:\\Users\\profe\\AppData\\Local\\Temp\\ipykernel_5868\\3978838614.py:78: FutureWarning: The frame.append method is deprecated and will be removed from pandas in a future version. Use pandas.concat instead.\n",
      "  df = df.append({'Faculty Member': name, 'Ph.D.': phd, 'Masters': masters, 'Bachelors': bachelors}, ignore_index=True)\n",
      "C:\\Users\\profe\\AppData\\Local\\Temp\\ipykernel_5868\\3978838614.py:78: FutureWarning: The frame.append method is deprecated and will be removed from pandas in a future version. Use pandas.concat instead.\n",
      "  df = df.append({'Faculty Member': name, 'Ph.D.': phd, 'Masters': masters, 'Bachelors': bachelors}, ignore_index=True)\n",
      "C:\\Users\\profe\\AppData\\Local\\Temp\\ipykernel_5868\\3978838614.py:78: FutureWarning: The frame.append method is deprecated and will be removed from pandas in a future version. Use pandas.concat instead.\n",
      "  df = df.append({'Faculty Member': name, 'Ph.D.': phd, 'Masters': masters, 'Bachelors': bachelors}, ignore_index=True)\n",
      "C:\\Users\\profe\\AppData\\Local\\Temp\\ipykernel_5868\\3978838614.py:78: FutureWarning: The frame.append method is deprecated and will be removed from pandas in a future version. Use pandas.concat instead.\n",
      "  df = df.append({'Faculty Member': name, 'Ph.D.': phd, 'Masters': masters, 'Bachelors': bachelors}, ignore_index=True)\n"
     ]
    }
   ],
   "source": [
    "df = pd.DataFrame(columns=['Faculty Member', 'Ph.D.', 'Masters', 'Bachelors'])\n",
    "\n",
    "pgnum_list = np.arange(0,50,1)\n",
    "\n",
    "for pgnum in pgnum_list:\n",
    "    url = f'https://www.engr.washington.edu/facultyfinder?page={pgnum}'\n",
    "    # Send a GET request to the faculty finder page\n",
    "    response = requests.get(url)\n",
    "    \n",
    "    # Parse the HTML response with Beautiful Soup\n",
    "    soup = BeautifulSoup(response.content, 'html.parser')\n",
    "    table = soup.find_all('table')[-1]\n",
    "    \n",
    "    # Verifying tables and their classes\n",
    "    # print('Classes of each table:')\n",
    "    # for table in soup.find_all('table'):\n",
    "    #     print(table.get('class'))\n",
    "    \n",
    "    \n",
    "    # Loop through each row in the table and extract the faculty information\n",
    "    for row in table.find_all('tr'):\n",
    "        columns = row.find_all('td')\n",
    "        \n",
    "        # Check if the row contains faculty information\n",
    "        if len(columns) != 0:\n",
    "            # Extract the faculty member's name and personal page link\n",
    "            name = columns[1].text.strip('\\n').splitlines()[0]\n",
    "            link = columns[1].find('a')['href']\n",
    "            \n",
    "            # Send a GET request to the faculty member's personal page\n",
    "            try: response = requests.get(link)\n",
    "            except: pass\n",
    "            \n",
    "            # Parse the HTML response with Beautiful Soup\n",
    "            soup = BeautifulSoup(response.content, 'html.parser')\n",
    "            \n",
    "            # Find the education section of the faculty member's personal page\n",
    "            education_section = soup.find('h2', text='Education')\n",
    "            \n",
    "            # If the education section exists, extract the education data\n",
    "            if education_section is not None:\n",
    "                education_section = education_section.find_next_sibling()\n",
    "                \n",
    "                # Split the education data by newline characters and remove empty strings\n",
    "                education_data = [d.strip() for d in education_section.text.strip().split('\\n') if d.strip()]\n",
    "                \n",
    "                # Loop through each education record and categorize it\n",
    "                phd = ''\n",
    "                masters = ''\n",
    "                bachelors = ''\n",
    "                for data in education_data:\n",
    "                    if 'Ph.D.' in data or 'PhD' in data:\n",
    "                        try:\n",
    "                            phd += data.split(',')[1] + ', '\n",
    "                        except IndexError:\n",
    "                            phd += 'Issue'\n",
    "                    elif 'M.S.' in data or 'Master' in data or 'MS' in data or 'MEng' in data or 'M.E.' in data:\n",
    "                        try:\n",
    "                            masters += data.split(',')[1] + ', '\n",
    "                        except IndexError:\n",
    "                            masters += 'Issue'\n",
    "                    elif 'B.S.' in data or 'B.A.' in data:\n",
    "                        try:\n",
    "                            bachelors += data.split(',')[1] + ', '\n",
    "                        except IndexError:\n",
    "                            bachelors += 'Issue'\n",
    "                \n",
    "                # Remove trailing commas\n",
    "                phd = phd.strip(', ')\n",
    "                masters = masters.strip(', ')\n",
    "                bachelors = bachelors.strip(', ')\n",
    "            else:\n",
    "                phd = 'Not available'\n",
    "                masters = 'Not available'\n",
    "                bachelors = 'Not available'\n",
    "            \n",
    "            # Add the faculty member's name and education data to the dataframe\n",
    "            df = df.append({'Faculty Member': name, 'Ph.D.': phd, 'Masters': masters, 'Bachelors': bachelors}, ignore_index=True)\n",
    "\n",
    "# Print the resulting dataframe\n",
    "# print(df)"
   ]
  },
  {
   "cell_type": "code",
   "execution_count": 7,
   "metadata": {},
   "outputs": [],
   "source": [
    "df.to_csv(path_or_buf='./eng.csv')"
   ]
  },
  {
   "cell_type": "code",
   "execution_count": 8,
   "metadata": {},
   "outputs": [
    {
     "name": "stdout",
     "output_type": "stream",
     "text": [
      "[395 106 'Not available' 188]\n"
     ]
    }
   ],
   "source": [
    "uniq = df['Ph.D.'].describe().unique()\n",
    "print(uniq) "
   ]
  },
  {
   "cell_type": "code",
   "execution_count": 13,
   "metadata": {},
   "outputs": [
    {
     "data": {
      "application/vnd.plotly.v1+json": {
       "config": {
        "plotlyServerURL": "https://plot.ly"
       },
       "data": [
        {
         "alignmentgroup": "True",
         "bingroup": "x",
         "hovertemplate": "variable=Ph.D.<br>value=%{x}<br>count=%{y}<extra></extra>",
         "legendgroup": "Ph.D.",
         "marker": {
          "color": "#636efa",
          "pattern": {
           "shape": ""
          }
         },
         "name": "Ph.D.",
         "offsetgroup": "Ph.D.",
         "orientation": "v",
         "showlegend": true,
         "type": "histogram",
         "x": [
          "Aerospace Engineering",
          "University of California",
          "Not available",
          "University of California",
          "University of California",
          "Not available",
          "Not available",
          "Not available",
          "Not available",
          "Not available",
          "Computer Science",
          "Georgia Institute of Technology",
          "Mechanical Engineering",
          "Not available",
          "Engineering and Public Policy",
          "University Of Washington",
          "Not available",
          "University of California Santa Barbara",
          "The University of Texas at Austin",
          "Not available",
          "Not available",
          "Not available",
          "University of Wisconsin",
          "University of Maryland",
          "University of Texas (Austin)",
          "Applied Physics",
          "Not available",
          "Not available",
          "University of Washington",
          "University of Washington",
          "University of California (Berkeley)",
          "Stanford University",
          "State University of New York at Buffalo",
          "Not available",
          "Not available",
          "Not available",
          "Not available",
          "Not available",
          "University of Washington",
          "Not available",
          "Aeronautics",
          "Uppsala Unniversity (Sweden)",
          "Princeton University",
          "Carnegie Mellon University.",
          "Not available",
          "University of Central Florida",
          "Not available",
          "Not available",
          "Yale University",
          "Not available",
          "University of Toronto",
          "University of Toronto",
          "Eindhoven University of Technology",
          "University of California at Berkeley",
          "Harvard University",
          "Not available",
          "University of California",
          "",
          "Not available",
          "Not available",
          "University of Michigan",
          "Not available",
          "Not available",
          "Northwestern University",
          "University of California",
          "Not available",
          "",
          "Not available",
          "Not available",
          "Aerospace Engineering",
          "Not available",
          "Massachusetts Institute of Technology and Woods Hole Oceanographic Institution",
          "Not available",
          "Not available",
          "Massachusetts Institute of Technology",
          "Not available",
          "Not available",
          "University of Colorado",
          "University of California",
          "Human Centered Design and Engineering",
          "Stanford University",
          "Swiss Federal Institute of Technology-Zurich (ETH-Zurich); Zurich",
          "Swiss Federal Institute of Technology-Zurich (ETH-Zurich); Zurich",
          "Not available",
          "Not available",
          "Not available",
          "University of Illinois-Urbana",
          "Not available",
          "",
          "University of California Berkeley",
          "Not available",
          "University of Massachusetts",
          "Not available",
          "Not available",
          "Not available",
          "Mechanical and Aerospace Engineering",
          "Computer Science",
          "Computer Science",
          "Not available",
          "Not available",
          "Not available",
          "Not available",
          "Interactive Arts and Technology",
          "Interactive Arts and Technology",
          "Not available",
          "Not available",
          "Not available",
          "UC Berkeley",
          "California Institute of Technology",
          "Not available",
          "Not available",
          "University of Wisconsin",
          "Not available",
          "the Concordia University",
          "University of Washington",
          "University of Washington",
          "Not available",
          "University of Michigan",
          "Human-Centered Computing",
          "Not available",
          "Not available",
          "Not available",
          "Not available",
          "University of California",
          "UC Berkeley",
          "University of Virginia",
          "University of Virginia",
          "Not available",
          "Not available",
          "University of Maryland",
          "Not available",
          "Not available",
          "English Language",
          "Not available",
          "Not available",
          "",
          "Aeronautics",
          "University of Massachusetts",
          "Inorganic Chemistry",
          "The University of Texas at Austin",
          "Stanford University",
          "University of Connecticut",
          "Human-Computer Interaction",
          "Human-Computer Interaction",
          "Arizona State University",
          "University of Washington",
          "University of California San Diego",
          "Not available",
          "Virginia Commonwealth University",
          "University of California Davis",
          "Not available",
          "Not available",
          "Utah State University",
          "Not available",
          "Chemical Engineering",
          "MIT and WHOI Joint Program",
          "",
          "Not available",
          "",
          "University of Colorado",
          "University of Washington",
          "Not available",
          "Not available",
          "Not available",
          "Not available",
          "The Pennsylvania State University",
          "Not available",
          "Not available",
          "Not available",
          "AA Engineering",
          "AA Engineering",
          "Not available",
          "Not available",
          "Not available",
          "U. of California",
          "Kirov State Technological University",
          "Washington State University",
          "Not available",
          "Materials Science & Engineering (Physics &  Mathematics - Minors) UC",
          "Not available",
          "Not available",
          "Massachusetts Institute of Technology",
          "Issue",
          "Mechanical Science and Engineering",
          "1994",
          "Not available",
          "Not available",
          "Not available",
          "Information Studies",
          "Not available",
          "",
          "Not available",
          "UC Berkeley",
          "Not available",
          "Stanford University",
          "Not available",
          "Not available",
          "Not available",
          "Mechanical & Aerospace Engineering",
          "Stanford University",
          "Stanford University",
          "",
          "University of California",
          "University of California",
          "Civil Engineering",
          "",
          "University of California",
          "Department of Chemistry",
          "Not available",
          "Not available",
          "Massachusetts Institute of Technology",
          "University of Florida",
          "Vienna University of Technology",
          "Not available",
          "",
          "University of Washington",
          "Not available",
          "University of Washington",
          "University of California",
          "Energy & Resources",
          "Not available",
          "Arizona State University",
          "Virginia Tech",
          "Virginia Tech",
          "University of Washington",
          "Information & Computer Science",
          "Information & Computer Science",
          "University of Southern California",
          "Ohio State University",
          "Ohio State University",
          "California Institute of Technology",
          "University of Illinois at Urbana-Champaign",
          "Not available",
          "Not available",
          "Not available",
          "Not available",
          "Engineering Sciences",
          "Not available",
          "Not available",
          "Princeton University",
          "Not available",
          "University of Washington",
          "School of Information",
          "Not available",
          "Johns Hopkins University",
          "Not available",
          "Massachusetts Institute of Technology",
          "University of Washington",
          "Not available",
          "Not available",
          "University of Washington",
          "Not available",
          "Not available",
          "Not available",
          "Not available",
          "Not available",
          "Aerospace Systems",
          "Experimental Condensed Matter Physics",
          "Not available",
          "University of California",
          "Physical Chemistry",
          "Media Arts & Sciences",
          "Not available",
          "Not available",
          "Not available",
          "2007",
          "University of Washington",
          "Not available",
          "Not available",
          "Not available",
          "University of California at Irvine",
          "Carnegie Mellon University",
          "Northwestern University",
          "Not available",
          "Arizona State University",
          "Not available",
          "Not available",
          "Not available",
          "Not available",
          "Not available",
          "Not available",
          "Environmental & Chemical Engineering",
          "Princeton University",
          "Ph.D.",
          "Not available",
          "Not available",
          "Not available",
          "California Institute of Technology",
          "Not available",
          "Sociology",
          "Not available",
          "",
          "",
          "Not available",
          "University Of Washington",
          "University of California",
          "School of Information",
          "Not available",
          "Aristotle University of Thessaloniki",
          "Not available",
          "Not available",
          "Not available",
          "University of Washington",
          "Not available",
          "Mechanical Engineering",
          "Not available",
          "University of California",
          "Not available",
          "Not available",
          "Not available",
          "Not available",
          "University of California",
          "Not available",
          "University of Washington",
          "Not available",
          "Not available",
          "Not available",
          "Earth and Space Sciences",
          "Earth and Space Sciences",
          "University of California",
          "Not available",
          "Not available",
          "Not available",
          "University of California at Berkeley",
          "Not available",
          "Not available",
          "Not available",
          "Not available",
          "University of Maryland at College Park",
          "Not available",
          "Civil Engineering",
          "Technology",
          "Not available",
          "Stanford University",
          "Not available",
          "Cornell University",
          "Not available",
          "Stanford University",
          "Not available",
          "Not available",
          "University of Illinois at Urbana-Champaign",
          "Not available",
          "Not available",
          "Not available",
          "Not available",
          "Not available",
          "Not available",
          "Not available",
          "MIT/WHOI",
          "University of Washington",
          "Not available",
          "Not available",
          "Not available",
          "Issue",
          "Not available",
          "Industrial Engineering",
          "Pennsylvania State University",
          "",
          "University of Illinois at Urbana-Champaign",
          "Not available",
          "Not available",
          "University of Tokyo",
          "Not available",
          "University of California",
          "Not available",
          "Not available",
          "Duke University",
          "Not available",
          "Mechanical and Aerospace Engineering",
          "Not available",
          "Not available",
          "Delft University of Technology,  Columbia University",
          "Delft University of Technology,  Columbia University",
          "Not available",
          "University of Texas at Austin",
          "University of Michigan",
          "Not available",
          "",
          "Massachusetts Institute of Technology",
          "University of Michigan",
          "Aeronautics and Astronautics",
          "Physics",
          "Not available",
          "Not available",
          "",
          "Iowa State University",
          "Not available",
          "Not available",
          "",
          "Not available",
          "Not available",
          "University of California at Berkeley",
          "University of Florida",
          "Not available",
          ""
         ],
         "xaxis": "x",
         "yaxis": "y"
        }
       ],
       "layout": {
        "barmode": "relative",
        "legend": {
         "title": {
          "text": "variable"
         },
         "tracegroupgap": 0
        },
        "margin": {
         "t": 60
        },
        "template": {
         "data": {
          "bar": [
           {
            "error_x": {
             "color": "#2a3f5f"
            },
            "error_y": {
             "color": "#2a3f5f"
            },
            "marker": {
             "line": {
              "color": "#E5ECF6",
              "width": 0.5
             },
             "pattern": {
              "fillmode": "overlay",
              "size": 10,
              "solidity": 0.2
             }
            },
            "type": "bar"
           }
          ],
          "barpolar": [
           {
            "marker": {
             "line": {
              "color": "#E5ECF6",
              "width": 0.5
             },
             "pattern": {
              "fillmode": "overlay",
              "size": 10,
              "solidity": 0.2
             }
            },
            "type": "barpolar"
           }
          ],
          "carpet": [
           {
            "aaxis": {
             "endlinecolor": "#2a3f5f",
             "gridcolor": "white",
             "linecolor": "white",
             "minorgridcolor": "white",
             "startlinecolor": "#2a3f5f"
            },
            "baxis": {
             "endlinecolor": "#2a3f5f",
             "gridcolor": "white",
             "linecolor": "white",
             "minorgridcolor": "white",
             "startlinecolor": "#2a3f5f"
            },
            "type": "carpet"
           }
          ],
          "choropleth": [
           {
            "colorbar": {
             "outlinewidth": 0,
             "ticks": ""
            },
            "type": "choropleth"
           }
          ],
          "contour": [
           {
            "colorbar": {
             "outlinewidth": 0,
             "ticks": ""
            },
            "colorscale": [
             [
              0,
              "#0d0887"
             ],
             [
              0.1111111111111111,
              "#46039f"
             ],
             [
              0.2222222222222222,
              "#7201a8"
             ],
             [
              0.3333333333333333,
              "#9c179e"
             ],
             [
              0.4444444444444444,
              "#bd3786"
             ],
             [
              0.5555555555555556,
              "#d8576b"
             ],
             [
              0.6666666666666666,
              "#ed7953"
             ],
             [
              0.7777777777777778,
              "#fb9f3a"
             ],
             [
              0.8888888888888888,
              "#fdca26"
             ],
             [
              1,
              "#f0f921"
             ]
            ],
            "type": "contour"
           }
          ],
          "contourcarpet": [
           {
            "colorbar": {
             "outlinewidth": 0,
             "ticks": ""
            },
            "type": "contourcarpet"
           }
          ],
          "heatmap": [
           {
            "colorbar": {
             "outlinewidth": 0,
             "ticks": ""
            },
            "colorscale": [
             [
              0,
              "#0d0887"
             ],
             [
              0.1111111111111111,
              "#46039f"
             ],
             [
              0.2222222222222222,
              "#7201a8"
             ],
             [
              0.3333333333333333,
              "#9c179e"
             ],
             [
              0.4444444444444444,
              "#bd3786"
             ],
             [
              0.5555555555555556,
              "#d8576b"
             ],
             [
              0.6666666666666666,
              "#ed7953"
             ],
             [
              0.7777777777777778,
              "#fb9f3a"
             ],
             [
              0.8888888888888888,
              "#fdca26"
             ],
             [
              1,
              "#f0f921"
             ]
            ],
            "type": "heatmap"
           }
          ],
          "heatmapgl": [
           {
            "colorbar": {
             "outlinewidth": 0,
             "ticks": ""
            },
            "colorscale": [
             [
              0,
              "#0d0887"
             ],
             [
              0.1111111111111111,
              "#46039f"
             ],
             [
              0.2222222222222222,
              "#7201a8"
             ],
             [
              0.3333333333333333,
              "#9c179e"
             ],
             [
              0.4444444444444444,
              "#bd3786"
             ],
             [
              0.5555555555555556,
              "#d8576b"
             ],
             [
              0.6666666666666666,
              "#ed7953"
             ],
             [
              0.7777777777777778,
              "#fb9f3a"
             ],
             [
              0.8888888888888888,
              "#fdca26"
             ],
             [
              1,
              "#f0f921"
             ]
            ],
            "type": "heatmapgl"
           }
          ],
          "histogram": [
           {
            "marker": {
             "pattern": {
              "fillmode": "overlay",
              "size": 10,
              "solidity": 0.2
             }
            },
            "type": "histogram"
           }
          ],
          "histogram2d": [
           {
            "colorbar": {
             "outlinewidth": 0,
             "ticks": ""
            },
            "colorscale": [
             [
              0,
              "#0d0887"
             ],
             [
              0.1111111111111111,
              "#46039f"
             ],
             [
              0.2222222222222222,
              "#7201a8"
             ],
             [
              0.3333333333333333,
              "#9c179e"
             ],
             [
              0.4444444444444444,
              "#bd3786"
             ],
             [
              0.5555555555555556,
              "#d8576b"
             ],
             [
              0.6666666666666666,
              "#ed7953"
             ],
             [
              0.7777777777777778,
              "#fb9f3a"
             ],
             [
              0.8888888888888888,
              "#fdca26"
             ],
             [
              1,
              "#f0f921"
             ]
            ],
            "type": "histogram2d"
           }
          ],
          "histogram2dcontour": [
           {
            "colorbar": {
             "outlinewidth": 0,
             "ticks": ""
            },
            "colorscale": [
             [
              0,
              "#0d0887"
             ],
             [
              0.1111111111111111,
              "#46039f"
             ],
             [
              0.2222222222222222,
              "#7201a8"
             ],
             [
              0.3333333333333333,
              "#9c179e"
             ],
             [
              0.4444444444444444,
              "#bd3786"
             ],
             [
              0.5555555555555556,
              "#d8576b"
             ],
             [
              0.6666666666666666,
              "#ed7953"
             ],
             [
              0.7777777777777778,
              "#fb9f3a"
             ],
             [
              0.8888888888888888,
              "#fdca26"
             ],
             [
              1,
              "#f0f921"
             ]
            ],
            "type": "histogram2dcontour"
           }
          ],
          "mesh3d": [
           {
            "colorbar": {
             "outlinewidth": 0,
             "ticks": ""
            },
            "type": "mesh3d"
           }
          ],
          "parcoords": [
           {
            "line": {
             "colorbar": {
              "outlinewidth": 0,
              "ticks": ""
             }
            },
            "type": "parcoords"
           }
          ],
          "pie": [
           {
            "automargin": true,
            "type": "pie"
           }
          ],
          "scatter": [
           {
            "fillpattern": {
             "fillmode": "overlay",
             "size": 10,
             "solidity": 0.2
            },
            "type": "scatter"
           }
          ],
          "scatter3d": [
           {
            "line": {
             "colorbar": {
              "outlinewidth": 0,
              "ticks": ""
             }
            },
            "marker": {
             "colorbar": {
              "outlinewidth": 0,
              "ticks": ""
             }
            },
            "type": "scatter3d"
           }
          ],
          "scattercarpet": [
           {
            "marker": {
             "colorbar": {
              "outlinewidth": 0,
              "ticks": ""
             }
            },
            "type": "scattercarpet"
           }
          ],
          "scattergeo": [
           {
            "marker": {
             "colorbar": {
              "outlinewidth": 0,
              "ticks": ""
             }
            },
            "type": "scattergeo"
           }
          ],
          "scattergl": [
           {
            "marker": {
             "colorbar": {
              "outlinewidth": 0,
              "ticks": ""
             }
            },
            "type": "scattergl"
           }
          ],
          "scattermapbox": [
           {
            "marker": {
             "colorbar": {
              "outlinewidth": 0,
              "ticks": ""
             }
            },
            "type": "scattermapbox"
           }
          ],
          "scatterpolar": [
           {
            "marker": {
             "colorbar": {
              "outlinewidth": 0,
              "ticks": ""
             }
            },
            "type": "scatterpolar"
           }
          ],
          "scatterpolargl": [
           {
            "marker": {
             "colorbar": {
              "outlinewidth": 0,
              "ticks": ""
             }
            },
            "type": "scatterpolargl"
           }
          ],
          "scatterternary": [
           {
            "marker": {
             "colorbar": {
              "outlinewidth": 0,
              "ticks": ""
             }
            },
            "type": "scatterternary"
           }
          ],
          "surface": [
           {
            "colorbar": {
             "outlinewidth": 0,
             "ticks": ""
            },
            "colorscale": [
             [
              0,
              "#0d0887"
             ],
             [
              0.1111111111111111,
              "#46039f"
             ],
             [
              0.2222222222222222,
              "#7201a8"
             ],
             [
              0.3333333333333333,
              "#9c179e"
             ],
             [
              0.4444444444444444,
              "#bd3786"
             ],
             [
              0.5555555555555556,
              "#d8576b"
             ],
             [
              0.6666666666666666,
              "#ed7953"
             ],
             [
              0.7777777777777778,
              "#fb9f3a"
             ],
             [
              0.8888888888888888,
              "#fdca26"
             ],
             [
              1,
              "#f0f921"
             ]
            ],
            "type": "surface"
           }
          ],
          "table": [
           {
            "cells": {
             "fill": {
              "color": "#EBF0F8"
             },
             "line": {
              "color": "white"
             }
            },
            "header": {
             "fill": {
              "color": "#C8D4E3"
             },
             "line": {
              "color": "white"
             }
            },
            "type": "table"
           }
          ]
         },
         "layout": {
          "annotationdefaults": {
           "arrowcolor": "#2a3f5f",
           "arrowhead": 0,
           "arrowwidth": 1
          },
          "autotypenumbers": "strict",
          "coloraxis": {
           "colorbar": {
            "outlinewidth": 0,
            "ticks": ""
           }
          },
          "colorscale": {
           "diverging": [
            [
             0,
             "#8e0152"
            ],
            [
             0.1,
             "#c51b7d"
            ],
            [
             0.2,
             "#de77ae"
            ],
            [
             0.3,
             "#f1b6da"
            ],
            [
             0.4,
             "#fde0ef"
            ],
            [
             0.5,
             "#f7f7f7"
            ],
            [
             0.6,
             "#e6f5d0"
            ],
            [
             0.7,
             "#b8e186"
            ],
            [
             0.8,
             "#7fbc41"
            ],
            [
             0.9,
             "#4d9221"
            ],
            [
             1,
             "#276419"
            ]
           ],
           "sequential": [
            [
             0,
             "#0d0887"
            ],
            [
             0.1111111111111111,
             "#46039f"
            ],
            [
             0.2222222222222222,
             "#7201a8"
            ],
            [
             0.3333333333333333,
             "#9c179e"
            ],
            [
             0.4444444444444444,
             "#bd3786"
            ],
            [
             0.5555555555555556,
             "#d8576b"
            ],
            [
             0.6666666666666666,
             "#ed7953"
            ],
            [
             0.7777777777777778,
             "#fb9f3a"
            ],
            [
             0.8888888888888888,
             "#fdca26"
            ],
            [
             1,
             "#f0f921"
            ]
           ],
           "sequentialminus": [
            [
             0,
             "#0d0887"
            ],
            [
             0.1111111111111111,
             "#46039f"
            ],
            [
             0.2222222222222222,
             "#7201a8"
            ],
            [
             0.3333333333333333,
             "#9c179e"
            ],
            [
             0.4444444444444444,
             "#bd3786"
            ],
            [
             0.5555555555555556,
             "#d8576b"
            ],
            [
             0.6666666666666666,
             "#ed7953"
            ],
            [
             0.7777777777777778,
             "#fb9f3a"
            ],
            [
             0.8888888888888888,
             "#fdca26"
            ],
            [
             1,
             "#f0f921"
            ]
           ]
          },
          "colorway": [
           "#636efa",
           "#EF553B",
           "#00cc96",
           "#ab63fa",
           "#FFA15A",
           "#19d3f3",
           "#FF6692",
           "#B6E880",
           "#FF97FF",
           "#FECB52"
          ],
          "font": {
           "color": "#2a3f5f"
          },
          "geo": {
           "bgcolor": "white",
           "lakecolor": "white",
           "landcolor": "#E5ECF6",
           "showlakes": true,
           "showland": true,
           "subunitcolor": "white"
          },
          "hoverlabel": {
           "align": "left"
          },
          "hovermode": "closest",
          "mapbox": {
           "style": "light"
          },
          "paper_bgcolor": "white",
          "plot_bgcolor": "#E5ECF6",
          "polar": {
           "angularaxis": {
            "gridcolor": "white",
            "linecolor": "white",
            "ticks": ""
           },
           "bgcolor": "#E5ECF6",
           "radialaxis": {
            "gridcolor": "white",
            "linecolor": "white",
            "ticks": ""
           }
          },
          "scene": {
           "xaxis": {
            "backgroundcolor": "#E5ECF6",
            "gridcolor": "white",
            "gridwidth": 2,
            "linecolor": "white",
            "showbackground": true,
            "ticks": "",
            "zerolinecolor": "white"
           },
           "yaxis": {
            "backgroundcolor": "#E5ECF6",
            "gridcolor": "white",
            "gridwidth": 2,
            "linecolor": "white",
            "showbackground": true,
            "ticks": "",
            "zerolinecolor": "white"
           },
           "zaxis": {
            "backgroundcolor": "#E5ECF6",
            "gridcolor": "white",
            "gridwidth": 2,
            "linecolor": "white",
            "showbackground": true,
            "ticks": "",
            "zerolinecolor": "white"
           }
          },
          "shapedefaults": {
           "line": {
            "color": "#2a3f5f"
           }
          },
          "ternary": {
           "aaxis": {
            "gridcolor": "white",
            "linecolor": "white",
            "ticks": ""
           },
           "baxis": {
            "gridcolor": "white",
            "linecolor": "white",
            "ticks": ""
           },
           "bgcolor": "#E5ECF6",
           "caxis": {
            "gridcolor": "white",
            "linecolor": "white",
            "ticks": ""
           }
          },
          "title": {
           "x": 0.05
          },
          "xaxis": {
           "automargin": true,
           "gridcolor": "white",
           "linecolor": "white",
           "ticks": "",
           "title": {
            "standoff": 15
           },
           "zerolinecolor": "white",
           "zerolinewidth": 2
          },
          "yaxis": {
           "automargin": true,
           "gridcolor": "white",
           "linecolor": "white",
           "ticks": "",
           "title": {
            "standoff": 15
           },
           "zerolinecolor": "white",
           "zerolinewidth": 2
          }
         }
        },
        "xaxis": {
         "anchor": "y",
         "domain": [
          0,
          1
         ],
         "title": {
          "text": "value"
         }
        },
        "yaxis": {
         "anchor": "x",
         "domain": [
          0,
          1
         ],
         "title": {
          "text": "count"
         }
        }
       }
      }
     },
     "metadata": {},
     "output_type": "display_data"
    }
   ],
   "source": [
    "df['Ph.D.'].hist(xrot=90,bins=uniq[1],figsize=(18,9),backend='plotly')"
   ]
  },
  {
   "cell_type": "code",
   "execution_count": null,
   "metadata": {},
   "outputs": [],
   "source": []
  }
 ],
 "metadata": {
  "kernelspec": {
   "display_name": "Python 3",
   "language": "python",
   "name": "python3"
  },
  "language_info": {
   "codemirror_mode": {
    "name": "ipython",
    "version": 3
   },
   "file_extension": ".py",
   "mimetype": "text/x-python",
   "name": "python",
   "nbconvert_exporter": "python",
   "pygments_lexer": "ipython3",
   "version": "3.10.4"
  },
  "orig_nbformat": 4,
  "vscode": {
   "interpreter": {
    "hash": "bdbce315960c3776fe868f285029d7a59084f2e8882315e6dd1aa58e67f790cf"
   }
  }
 },
 "nbformat": 4,
 "nbformat_minor": 2
}
