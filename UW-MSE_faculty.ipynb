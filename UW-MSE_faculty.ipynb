{
 "cells": [
  {
   "cell_type": "code",
   "execution_count": 3,
   "metadata": {},
   "outputs": [],
   "source": [
    "import requests\n",
    "from bs4 import BeautifulSoup\n",
    "\n",
    "# Send a GET request to the Materials Science and Engineering directory page\n",
    "url = 'https://mse.washington.edu/people/faculty'\n",
    "response = requests.get(url)\n",
    "\n",
    "# Parse the HTML response with Beautiful Soup\n",
    "soup = BeautifulSoup(response.content, 'html.parser')\n",
    "\n",
    "# Find all the professors on the page\n",
    "professors = soup.find_all('div', {'class': 'faculty-member'})\n",
    "\n",
    "# Create an empty list to store the education data\n",
    "education_data = []\n",
    "\n",
    "# Loop through each professor and scrape their education data\n",
    "for professor in professors:\n",
    "    # Get the link to the professor's personal page\n",
    "    link = professor.find('a')['href']\n",
    "    \n",
    "    # Send a GET request to the professor's personal page\n",
    "    response = requests.get(link)\n",
    "    \n",
    "    # Parse the HTML response with Beautiful Soup\n",
    "    soup = BeautifulSoup(response.content, 'html.parser')\n",
    "    \n",
    "    # Find the education section of the professor's page\n",
    "    education_section = soup.find('h2', text='Education').find_next_sibling()\n",
    "    \n",
    "    # Extract the education data from the education section\n",
    "    education = education_section.text.strip()\n",
    "    \n",
    "    # Add the education data to the list\n",
    "    education_data.append(education)\n",
    "    \n",
    "# Print the education data for each professor\n",
    "for i, education in enumerate(education_data):\n",
    "    print(f\"Professor {i+1} education: {education}\")"
   ]
  }
 ],
 "metadata": {
  "kernelspec": {
   "display_name": "Python 3",
   "language": "python",
   "name": "python3"
  },
  "language_info": {
   "codemirror_mode": {
    "name": "ipython",
    "version": 3
   },
   "file_extension": ".py",
   "mimetype": "text/x-python",
   "name": "python",
   "nbconvert_exporter": "python",
   "pygments_lexer": "ipython3",
   "version": "3.10.4"
  },
  "orig_nbformat": 4,
  "vscode": {
   "interpreter": {
    "hash": "bdbce315960c3776fe868f285029d7a59084f2e8882315e6dd1aa58e67f790cf"
   }
  }
 },
 "nbformat": 4,
 "nbformat_minor": 2
}
